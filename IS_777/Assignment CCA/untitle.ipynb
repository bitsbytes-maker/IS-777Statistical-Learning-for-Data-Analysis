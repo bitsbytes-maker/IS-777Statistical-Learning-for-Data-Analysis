#canonical correlation:
import numpy as np
import numpy as np
# Academic Performance (X)
X1 = [85, 78, 92, 88, 94, 96, 100, 85, 92, 80]  # Math scores
X2 = [70, 75, 78, 72, 80, 82, 90, 75, 88, 72]  # English scores
X3 = [75, 85, 90, 82, 105, 102, 115, 85, 95, 75]  # Science scores

# Extracurricular Activities (Y)
Y1 = [2, 3, 2, 3, 2, 3, 4, 3, 4, 2]  # Sports participation hours per week
Y2 = [1, 2, 2, 3, 3, 3, 2, 2, 1, 1]  # Music club involvement hours per week
Y3 = [5, 6, 8, 4, 10, 12, 15, 11, 9, 7]  # Leadership roles in school clubs (hours per week)

All = np.array([SBP,DBP,PULSE,W,H,AGE])
R = np.cov(All)
print('R')
print(R)
Rxx = R[0:3,0:3]
Ryy = R[3:6,3:6]
Rxy=R[0:3,3:6]
Ryx=Rxy.T


print('Rxx')
print(Rxx)
print('Ryy')
print(Ryy)
print('Rxy')
print(Rxy)
print('Ryx')
print(Ryx)




# Rx matrix for the for the blood pressure 
Rxx_inv=(np.linalg.inv(Rxx))
Ryy_inv=np.linalg.inv(Ryy)
A=np.matmul(Rxx_inv,Rxy)
B=np.matmul(Ryy_inv,Ryx)
Rx=np.matmul(A,B)
print('Rx')
print(Rx)
# eigen values and vectors for the blood pressure 

from numpy.linalg import eig
w,v=eig(Rx)
print('E-value:', w)
print('E-vector', v)
#BP equation:
BPP = np.zeros((len(SBP)))
for i in range(len(SBP)):
    BPP[i] =   v[0][1]*SBP[i]+v[1][1]*DBP[i] + v[2][1]*PULSE[i]
print('BPP Equation')
print(v[0][1],v[1][1],v[2][1])
print('BPP values')
print(BPP)
#body shape
# Rx matrix for the for the body shape
A=np.matmul(Ryy_inv,Ryx)
B=np.matmul(Rxx_inv,Rxy)
rx=np.matmul(A,B)
# eigen values and vectors for the body shape
print('Rx')
print(rx)
w,v=eig(rx)
print('E-value:', w)
print('E-vector', v)
#BP equation:
BSS = np.zeros((len(W)))
for i in range(len(W)):
    BSS[i] =   v[0][2]*W[i]+v[1][2]*H[i]+v[2][2]*AGE[i]

print('BSS equation')
print(v[0][2],v[1][2],v[2][2])

print('BSS values')
print(BSS)
#standardized scores
# canonical loadings and cross loadings 



import scipy.stats
scipy.stats.pearsonr(BPP,BSS)
from sklearn.preprocessing import StandardScaler

scale= StandardScaler()

# standardization of BPP
BPP_scaled = scale.fit_transform(BPP.reshape(-1, 1)) 
print('BPP_scaled')
print(BPP_scaled)

# standardization of BSS
BSS_scaled = scale.fit_transform(BSS.reshape(-1, 1))
print('BSS_scaled') 
print(BSS_scaled)

print('pearosn')
print('bpp_scale,spp')
print(scipy.stats.pearsonr(BPP_scaled.squeeze(), SBP))



#plot the heat map 
import numpy as np
from mlxtend.plotting import heatmap
import matplotlib.pyplot as plt
data=np.zeros((len(SBP),8)) 
data[:,0]=SBP;
data[:,1]=DBP; 
data[:,2]=PULSE;
data[:,3]=W; 
data[:,4]=H ; 
data[:,5]=AGE ; 
data[:,6]=BPP_scaled.squeeze(); 
data[:,7]=BSS_scaled.squeeze()
cols=['SBP','DBP','PULSE', 'W','H','AGE','BPP_scaled','BSS_scaled']
cm = np.corrcoef(data.T)

hm = heatmap(cm, row_names=cols, column_names=cols,cmap='Reds')

# plt.savefig('images/10_04.png', dpi=300)
plt.show()