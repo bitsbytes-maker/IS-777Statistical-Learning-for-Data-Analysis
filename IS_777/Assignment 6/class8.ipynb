{
 "cells": [
  {
   "cell_type": "code",
   "execution_count": 2,
   "id": "a4f81d96",
   "metadata": {},
   "outputs": [
    {
     "data": {
      "text/plain": [
       "array([[0, 1, 2, 2, 4],\n",
       "       [3, 9, 3, 4, 5],\n",
       "       [5, 5, 4, 4, 6],\n",
       "       [9, 9, 9, 9, 9]])"
      ]
     },
     "execution_count": 2,
     "metadata": {},
     "output_type": "execute_result"
    }
   ],
   "source": [
    "import numpy as np \n",
    "x = np.array([[0, 3,5,9], [1,9,5,9],[2,3,4,9],[2,4,4,9],[4,5,6,9]]).T\n",
    "x\n"
   ]
  },
  {
   "cell_type": "code",
   "execution_count": 3,
   "id": "613bd794",
   "metadata": {},
   "outputs": [
    {
     "data": {
      "text/plain": [
       "array([[ 2.2 , -0.05,  0.45,  0.  ],\n",
       "       [-0.05,  6.2 ,  0.7 ,  0.  ],\n",
       "       [ 0.45,  0.7 ,  0.7 ,  0.  ],\n",
       "       [ 0.  ,  0.  ,  0.  ,  0.  ]])"
      ]
     },
     "execution_count": 3,
     "metadata": {},
     "output_type": "execute_result"
    }
   ],
   "source": [
    "#covariance matrix \n",
    "np.cov(x)"
   ]
  },
  {
   "cell_type": "code",
   "execution_count": 4,
   "id": "3d5b2ac0",
   "metadata": {},
   "outputs": [],
   "source": [
    "# sample covariance matrix \n",
    "import numpy as np\n",
    "from sklearn.covariance import EmpiricalCovariance\n",
    "from sklearn.datasets import make_gaussian_quantiles\n",
    "real_cov = np.array([[.8, .3,7],\n",
    "                     [.3, .4,0.5],\n",
    "                     [.3, .6,.4]])\n"
   ]
  },
  {
   "cell_type": "code",
   "execution_count": 5,
   "id": "23aeeba5",
   "metadata": {},
   "outputs": [
    {
     "data": {
      "text/plain": [
       "array([[0.8, 0.3, 7. ],\n",
       "       [0.3, 0.4, 0.5],\n",
       "       [0.3, 0.6, 0.4]])"
      ]
     },
     "execution_count": 5,
     "metadata": {},
     "output_type": "execute_result"
    }
   ],
   "source": [
    "real_cov"
   ]
  },
  {
   "cell_type": "code",
   "execution_count": 6,
   "id": "05d440a5",
   "metadata": {},
   "outputs": [
    {
     "name": "stderr",
     "output_type": "stream",
     "text": [
      "/var/folders/1f/9_2wggdd2ygfkk69t5zj8cyh0000gr/T/ipykernel_2863/1470381038.py:2: RuntimeWarning: covariance is not positive-semidefinite.\n",
      "  X = rng.multivariate_normal(mean=[0,0,0],\n"
     ]
    },
    {
     "data": {
      "text/plain": [
       "array([[0.27365999, 0.31484671, 0.70410346],\n",
       "       [0.31484671, 0.66073876, 0.16551754],\n",
       "       [0.70410346, 0.16551754, 6.61152455]])"
      ]
     },
     "execution_count": 6,
     "metadata": {},
     "output_type": "execute_result"
    }
   ],
   "source": [
    "rng = np.random.RandomState(0)\n",
    "X = rng.multivariate_normal(mean=[0,0,0],\n",
    "                            cov=real_cov,\n",
    "                            size=500)\n",
    "cov = EmpiricalCovariance().fit(X)\n",
    "cov.covariance_\n"
   ]
  },
  {
   "cell_type": "code",
   "execution_count": 7,
   "id": "8903028b",
   "metadata": {},
   "outputs": [],
   "source": [
    "#eigenvalues and vectors \n",
    "import numpy as np\n",
    "from numpy.linalg import eig"
   ]
  },
  {
   "cell_type": "code",
   "execution_count": 8,
   "id": "bdfeb4f5",
   "metadata": {},
   "outputs": [
    {
     "name": "stdout",
     "output_type": "stream",
     "text": [
      "E-value: [254.79530715   8.25469285]\n",
      "E-vector [[ 0.84782531 -0.53027562]\n",
      " [ 0.53027562  0.84782531]]\n"
     ]
    }
   ],
   "source": [
    "a = np.array([[185.47, 110.84], \n",
    "              [110.84, 77.58]])\n",
    "w,v=eig(a)\n",
    "print('E-value:', w)\n",
    "print('E-vector', v)"
   ]
  },
  {
   "cell_type": "code",
   "execution_count": 9,
   "id": "a9229429",
   "metadata": {},
   "outputs": [],
   "source": [
    "#Eigenvalues\n",
    "#[254.79530715   8.25469285]  \n",
    "#Eigenvector\n",
    "#[[ 0.84782531 -0.53027562]\n",
    " #[ 0.53027562  0.84782531]]\n",
    "    "
   ]
  },
  {
   "cell_type": "code",
   "execution_count": 10,
   "id": "d02dad40",
   "metadata": {},
   "outputs": [
    {
     "data": {
      "text/plain": [
       "2.437373035372848e-17"
      ]
     },
     "execution_count": 10,
     "metadata": {},
     "output_type": "execute_result"
    }
   ],
   "source": [
    "np.dot(v[0],v[1])# they are perpendicular to each other "
   ]
  },
  {
   "cell_type": "code",
   "execution_count": null,
   "id": "296f672f",
   "metadata": {},
   "outputs": [],
   "source": []
  },
  {
   "cell_type": "code",
   "execution_count": 11,
   "id": "0b971ada",
   "metadata": {},
   "outputs": [
    {
     "data": {
      "text/plain": [
       "(31,)"
      ]
     },
     "execution_count": 11,
     "metadata": {},
     "output_type": "execute_result"
    }
   ],
   "source": [
    "A=[19,25,22,-1,4,14,21,22,23,27,29,25,29,15,9,24,0,2,26,17,19,9,20,-6,-13,-13,-11,-4,-4,11,23]\n",
    "B=[28,28,26,19,16,24,26,24,24,29,27,31,26,30,23,13,14,28,29,19,19,17,22,2,4,5,7,8,14,14,23]\n",
    "\n",
    "np.shape(B)"
   ]
  },
  {
   "cell_type": "code",
   "execution_count": 12,
   "id": "2de8c9df",
   "metadata": {},
   "outputs": [],
   "source": [
    "A=A-np.mean(A)\n",
    "B=B-np.mean(B)\n"
   ]
  },
  {
   "cell_type": "code",
   "execution_count": 13,
   "id": "36252880",
   "metadata": {},
   "outputs": [
    {
     "data": {
      "text/plain": [
       "<matplotlib.collections.PathCollection at 0x28d0dcd30>"
      ]
     },
     "execution_count": 13,
     "metadata": {},
     "output_type": "execute_result"
    },
    {
     "data": {
      "image/png": "[encoded data removed]",
      "text/plain": [
       "<Figure size 640x480 with 1 Axes>"
      ]
     },
     "metadata": {},
     "output_type": "display_data"
    }
   ],
   "source": [
    "from matplotlib import pyplot as plt\n",
    "plt.scatter(A,B)\n"
   ]
  },
  {
   "cell_type": "code",
   "execution_count": 14,
   "id": "d82379a3",
   "metadata": {},
   "outputs": [
    {
     "name": "stdout",
     "output_type": "stream",
     "text": [
      "-3.43811001174242e-16 -9.168293364646454e-16 13.089144448486321 8.240278224897828 SignificanceResult(statistic=0.7294243910888952, pvalue=3.237276374402856e-06)\n"
     ]
    }
   ],
   "source": [
    "import scipy.stats\n",
    "\n",
    "print(np.mean(A), np.mean(B), np.std(A), np.std(B),scipy.stats.spearmanr(A,B) )"
   ]
  },
  {
   "cell_type": "code",
   "execution_count": 76,
   "id": "6f51d50d",
   "metadata": {},
   "outputs": [
    {
     "name": "stdout",
     "output_type": "stream",
     "text": [
      "[[ 33  32  30  29  25  30  37  37  29  30  36  32  33  34  53  45  25  28\n",
      "   32  27  26  28  24  26   9  22  17  26  27  30  34]\n",
      " [ 19  25  22  -1   4  14  21  22  23  27  29  25  29  15   9  24   0   2\n",
      "   26  17  19   9  20  -6 -13 -13 -11  -4  -4  11  23]]\n",
      "[[ 59.51612903  60.01397849]\n",
      " [ 60.01397849 177.03655914]]\n"
     ]
    }
   ],
   "source": [
    "x = np.array([A,B])\n",
    "print(x)\n",
    "a = np.cov(x)\n",
    "print(a)\n",
    "w,v=eig(a)\n",
    "# print('E-value:', w)\n",
    "# print('E-vector', v)\n",
    "#a"
   ]
  },
  {
   "cell_type": "code",
   "execution_count": 78,
   "id": "3fe363c4",
   "metadata": {},
   "outputs": [
    {
     "data": {
      "text/plain": [
       "array([-0.92184697, -0.38755407])"
      ]
     },
     "execution_count": 78,
     "metadata": {},
     "output_type": "execute_result"
    }
   ],
   "source": [
    "v[0]"
   ]
  },
  {
   "cell_type": "code",
   "execution_count": 79,
   "id": "32045f35",
   "metadata": {},
   "outputs": [
    {
     "data": {
      "text/plain": [
       "-60.36437755409954"
      ]
     },
     "execution_count": 79,
     "metadata": {},
     "output_type": "execute_result"
    }
   ],
   "source": [
    "#Angle of the anglular dierection of the eigenvectors\n",
    "import math \n",
    "\n",
    "np.arctan(0.86892343/( -0.49494653))*180/3.14 #PC1"
   ]
  },
  {
   "cell_type": "code",
   "execution_count": 18,
   "id": "a1ef8b5e",
   "metadata": {},
   "outputs": [
    {
     "name": "stdout",
     "output_type": "stream",
     "text": [
      "11.64516129032258 -6.967741935483872\n"
     ]
    }
   ],
   "source": [
    "print(A[15],B[15])"
   ]
  },
  {
   "cell_type": "code",
   "execution_count": 19,
   "id": "048e526f",
   "metadata": {},
   "outputs": [
    {
     "data": {
      "text/plain": [
       "13.567413184193548"
      ]
     },
     "execution_count": 19,
     "metadata": {},
     "output_type": "execute_result"
    }
   ],
   "source": [
    "#PC1\n",
    "u1=0.86892343*(A[15])-0.49494653*(B[15])\n",
    "u1"
   ]
  },
  {
   "cell_type": "code",
   "execution_count": 20,
   "id": "06cf834f",
   "metadata": {},
   "outputs": [
    {
     "data": {
      "text/plain": [
       "-0.29070205000000104"
      ]
     },
     "execution_count": 20,
     "metadata": {},
     "output_type": "execute_result"
    }
   ],
   "source": [
    "u2=0.49494653*(A[15])+(0.86892343)*(B[15])\n",
    "u2"
   ]
  },
  {
   "cell_type": "code",
   "execution_count": 21,
   "id": "4e75215f",
   "metadata": {},
   "outputs": [
    {
     "data": {
      "text/plain": [
       "<matplotlib.collections.PathCollection at 0x28d16bf40>"
      ]
     },
     "execution_count": 21,
     "metadata": {},
     "output_type": "execute_result"
    },
    {
     "data": {
      "image/png": "[encoded data removed]",
      "text/plain": [
       "<Figure size 640x480 with 1 Axes>"
      ]
     },
     "metadata": {},
     "output_type": "display_data"
    }
   ],
   "source": [
    "from matplotlib import pyplot as plt\n",
    "plt.scatter(A,B)\n",
    "plt.scatter(u1,u2, marker='s', color='k') # new projected point on a PC plane\n",
    "plt.scatter(A[15],B[15]) # original point"
   ]
  },
  {
   "cell_type": "code",
   "execution_count": 22,
   "id": "74dc4621",
   "metadata": {},
   "outputs": [],
   "source": [
    "#the maximum sample variation is 227.58036108 unit^2(eigen value #1 correponding to the pC1 or u1) .\n",
    "#the second sample variation is 23.60028408 unit ^2 (eigen value #2 correponding to the pC2 or u2).\n",
    "#THIS IMPLIS LESS VARIATION IN THE U2 direction"
   ]
  },
  {
   "cell_type": "code",
   "execution_count": 23,
   "id": "791107e7",
   "metadata": {},
   "outputs": [],
   "source": [
    "#variance explained?"
   ]
  },
  {
   "cell_type": "code",
   "execution_count": 24,
   "id": "929ca090",
   "metadata": {},
   "outputs": [
    {
     "data": {
      "text/plain": [
       "92.37988399212558"
      ]
     },
     "execution_count": 24,
     "metadata": {},
     "output_type": "execute_result"
    }
   ],
   "source": [
    "var_exp_e1=(w[0]/(w[0]+w[1]))\n",
    "var_exp_e1*100"
   ]
  },
  {
   "cell_type": "code",
   "execution_count": 25,
   "id": "f1b4fa24",
   "metadata": {},
   "outputs": [],
   "source": [
    "# the data may be a time series\n",
    "time=np.linspace(1,31,31)"
   ]
  },
  {
   "cell_type": "code",
   "execution_count": 26,
   "id": "f735a03b",
   "metadata": {},
   "outputs": [
    {
     "data": {
      "text/plain": [
       "[<matplotlib.lines.Line2D at 0x28d2267a0>]"
      ]
     },
     "execution_count": 26,
     "metadata": {},
     "output_type": "execute_result"
    },
    {
     "data": {
      "image/png": "[encoded data removed]",
      "text/plain": [
       "<Figure size 640x480 with 1 Axes>"
      ]
     },
     "metadata": {},
     "output_type": "display_data"
    }
   ],
   "source": [
    "plt.plot(time,A)\n",
    "plt.plot(time,B)"
   ]
  },
  {
   "cell_type": "code",
   "execution_count": 27,
   "id": "bc977134",
   "metadata": {},
   "outputs": [],
   "source": [
    "# so is the PC\n",
    "#Lets construc the PC1 using all the values and teh eiogenvectors.\n",
    "# note the first value of the eigenvector 1 is related to A and the second one is related to B\n",
    "#E1 [[ 0.86892343 -0.49494653]\n",
    "#E2 [ 0.49494653  0.86892343]]\n",
    "#0.86892343 -0.49494653\n",
    "PC1=[]\n",
    "PC2=[]\n",
    "for i in range(31):\n",
    "    PC1.append( 0.86892343*A[i]-0.49494653*B[i])\n",
    "    PC2.append( 0.49494653*A[i] + 0.86892343*B[i])"
   ]
  },
  {
   "cell_type": "code",
   "execution_count": 28,
   "id": "eaed9c9b",
   "metadata": {},
   "outputs": [
    {
     "data": {
      "text/plain": [
       "[1.7985980841935487,\n",
       " 7.012138664193548,\n",
       " 5.395261434193548,\n",
       " -11.125351745806453,\n",
       " -5.295895005806452,\n",
       " -0.5662329458064514,\n",
       " 4.5263380041935495,\n",
       " 6.385154494193549,\n",
       " 7.25407792419355,\n",
       " 8.255038994193548,\n",
       " 10.982778914193549,\n",
       " 5.527299074193549,\n",
       " 11.477725444193549,\n",
       " -2.666988695806451,\n",
       " -4.415903565806452,\n",
       " 13.567413184193548,\n",
       " -7.781695665806453,\n",
       " -12.973100225806453,\n",
       " 7.38611556419355,\n",
       " 4.515269994193549,\n",
       " 6.253116854193549,\n",
       " -1.4462243858064519,\n",
       " 5.637200694193549,\n",
       " -7.055877885806453,\n",
       " -14.128234955806452,\n",
       " -14.623181485806452,\n",
       " -13.87522768580645,\n",
       " -8.287710205806452,\n",
       " -11.257389385806453,\n",
       " 1.776462064193548,\n",
       " 7.74902445419355]"
      ]
     },
     "execution_count": 28,
     "metadata": {},
     "output_type": "execute_result"
    }
   ],
   "source": [
    "PC1"
   ]
  },
  {
   "cell_type": "code",
   "execution_count": 29,
   "id": "e1e779e0",
   "metadata": {},
   "outputs": [
    {
     "data": {
      "text/plain": [
       "<matplotlib.legend.Legend at 0x28d27ae90>"
      ]
     },
     "execution_count": 29,
     "metadata": {},
     "output_type": "execute_result"
    },
    {
     "data": {
      "image/png": "[encoded data removed]",
      "text/plain": [
       "<Figure size 640x480 with 1 Axes>"
      ]
     },
     "metadata": {},
     "output_type": "display_data"
    }
   ],
   "source": [
    "plt.plot(time,A,label='timeseries')\n",
    "plt.plot(time,B,label='timeseries')\n",
    "plt.plot(time,PC1,label='PC1',alpha=0.5)\n",
    "plt.plot(time,PC2,label='PC2',alpha=0.5)\n",
    "plt.legend()"
   ]
  },
  {
   "cell_type": "code",
   "execution_count": 30,
   "id": "07179fc8",
   "metadata": {},
   "outputs": [],
   "source": [
    "#See the data and the PCs\n",
    "#Note both the datasets A and B and PC1 and pC2 have same number of datapoints. "
   ]
  },
  {
   "cell_type": "code",
   "execution_count": 31,
   "id": "5c4ec1ff",
   "metadata": {},
   "outputs": [
    {
     "data": {
      "text/plain": [
       "SignificanceResult(statistic=0.9564167764029455, pvalue=4.801471330799633e-17)"
      ]
     },
     "execution_count": 31,
     "metadata": {},
     "output_type": "execute_result"
    }
   ],
   "source": [
    "scipy.stats.spearmanr(A,PC1) #  correlation between the first time series and PC1"
   ]
  },
  {
   "cell_type": "code",
   "execution_count": null,
   "id": "b1f2b7d7",
   "metadata": {},
   "outputs": [],
   "source": []
  },
  {
   "cell_type": "code",
   "execution_count": 32,
   "id": "7dbfadc2",
   "metadata": {},
   "outputs": [],
   "source": [
    "# PC for multiple number of datasets  (not just 2 columns of data; now 4 columns OR 4 FEATURES )\n",
    "A=[82.6,79.1,81.7,80.7,74.9,79.1,83.8,78.4,82.3,79.4]\n",
    "B=[312.1,129.9,131.2,132.1,125,129.1,133.1,127,131.6,129.2]\n",
    "C=[71,79,78,66,70,64,60,67,64,77]\n",
    "D=[172,180,172,166,173,162,164,165,164,179]\n"
   ]
  },
  {
   "cell_type": "code",
   "execution_count": 33,
   "id": "9ecfd511",
   "metadata": {},
   "outputs": [],
   "source": [
    "A=(A-np.mean(A))/np.std(A)\n",
    "B=(B-np.mean(B))/np.std(B)\n",
    "C=(C-np.mean(C))/np.std(C)\n",
    "D=(D-np.mean(D))/np.std(D)\n",
    "\n"
   ]
  },
  {
   "cell_type": "code",
   "execution_count": 34,
   "id": "528019be",
   "metadata": {},
   "outputs": [
    {
     "name": "stdout",
     "output_type": "stream",
     "text": [
      "E-value: [2.27823864 1.46486905 0.59733857 0.10399819]\n",
      "E-vector [[ 0.35446834  0.59263364  0.72030817  0.0655264 ]\n",
      " [ 0.00964426  0.77111378 -0.6330615  -0.06725822]\n",
      " [-0.65773467  0.15834366  0.25620516 -0.69041387]\n",
      " [-0.66456323  0.17057605  0.12144219  0.71729444]]\n"
     ]
    },
    {
     "data": {
      "text/plain": [
       "(10,)"
      ]
     },
     "execution_count": 34,
     "metadata": {},
     "output_type": "execute_result"
    }
   ],
   "source": [
    "x = np.array([A,B,C,D])\n",
    "#eigenvalues and vectors \n",
    "import numpy as np\n",
    "from numpy.linalg import eig\n",
    "a = np.cov(x)\n",
    "w,v=eig(a)\n",
    "print('E-value:', w)\n",
    "print('E-vector', v)\n",
    "A.shape"
   ]
  },
  {
   "cell_type": "code",
   "execution_count": 35,
   "id": "4ca760cd",
   "metadata": {},
   "outputs": [
    {
     "name": "stdout",
     "output_type": "stream",
     "text": [
      "E-value: [2.27823864 1.46486905 0.59733857 0.10399819]\n",
      "E-vector [[ 0.35446834  0.59263364  0.72030817  0.0655264 ]\n",
      " [ 0.00964426  0.77111378 -0.6330615  -0.06725822]\n",
      " [-0.65773467  0.15834366  0.25620516 -0.69041387]\n",
      " [-0.66456323  0.17057605  0.12144219  0.71729444]]\n"
     ]
    }
   ],
   "source": [
    "x = np.array([A,B,C,D])\n",
    "a = np.cov(x)\n",
    "w,v=eig(a)\n",
    "print('E-value:', w)\n",
    "print('E-vector', v)\n"
   ]
  },
  {
   "cell_type": "code",
   "execution_count": 36,
   "id": "a827f944",
   "metadata": {},
   "outputs": [],
   "source": [
    "# see four eigenvectors and four Eigenvalues.\n",
    "\n",
    "# reconstruct teh PCs\n",
    "PC1=[]\n",
    "PC2=[]\n",
    "PC3=[]\n",
    "PC4=[]\n",
    "\n",
    "for i in range(10):\n",
    "    PC1.append( 0.35446834*A[i] + 0.59263364*B[i] + 0.72030817*C[i] + 0.0655264*D[i])\n",
    "    PC2.append(  0.00964426*A[i] + 0.77111378*B[i] -0.6330615*C[i]  -0.06725822*D[i])\n",
    "    PC3.append(-0.65773467*A[i] + 0.15834366 *B[i]+ 0.25620516*C[i] -0.69041387*D[i])\n",
    "    PC4.append(-0.66456323*A[i] + 0.17057605 *B[i]+ 0.12144219 *C[i]+ 0.71729444*D[i])\n",
    "\n",
    "\n",
    "\n",
    "\n"
   ]
  },
  {
   "cell_type": "code",
   "execution_count": 37,
   "id": "8b80ccc3",
   "metadata": {},
   "outputs": [
    {
     "data": {
      "text/plain": [
       "<matplotlib.legend.Legend at 0x28d25e290>"
      ]
     },
     "execution_count": 37,
     "metadata": {},
     "output_type": "execute_result"
    },
    {
     "data": {
      "image/png": "[encoded data removed]",
      "text/plain": [
       "<Figure size 640x480 with 1 Axes>"
      ]
     },
     "metadata": {},
     "output_type": "display_data"
    }
   ],
   "source": [
    "#And plotitng them.\n",
    "plt.plot(np.linspace(0,10,10),A,label='timeseries A')\n",
    "plt.plot(np.linspace(0,10,10),B,label='timeseries B')\n",
    "plt.plot(np.linspace(0,10,10),C,label='timeseries C')\n",
    "plt.plot(np.linspace(0,10,10),D,label='timeseries D')\n",
    "plt.plot(np.linspace(0,10,10),PC1,label='PC1',alpha=0.5, linestyle='dashed')\n",
    "plt.plot(np.linspace(0,10,10),PC2,label='PC2',alpha=0.5, linestyle='dashed')\n",
    "plt.plot(np.linspace(0,10,10),PC3,label='PC3',alpha=0.5, linestyle='dashed')\n",
    "plt.plot(np.linspace(0,10,10),PC4,label='PC3',alpha=0.5, linestyle='dashed')\n",
    "plt.legend()"
   ]
  },
  {
   "cell_type": "code",
   "execution_count": 38,
   "id": "a2871626",
   "metadata": {},
   "outputs": [],
   "source": [
    "#canonical correlation:\n",
    "A=[33,32,30,29,25,30,37,37,29,30,36,32,33,34,53,45,25,28,32,27,26,28,24,26,9,22,17,26,27,30,34]\n",
    "B=[19,25,22,-1,4,14,21,22,23,27,29,25,29,15,9,24,0,2,26,17,19,9,20,-6,-13,-13,-11,-4,-4,11,23]\n",
    "x = np.array([A,B])"
   ]
  },
  {
   "cell_type": "code",
   "execution_count": 39,
   "id": "aa8167e4",
   "metadata": {},
   "outputs": [],
   "source": [
    "C=[34,26,30,29,30,35,44,38,31,33,39,33,34,39,51,44,25,34,36,29,27,29,27,24,11,21,19,26,28,31,38]\n",
    "D=[28,28,26,19,16,24,26,24,24,29,27,31,26,30,23,13,14,28,29,19,19,17,22,2,4,5,7,8,14,14,23]\n",
    "\n",
    "y = np.array([C,D])"
   ]
  },
  {
   "cell_type": "code",
   "execution_count": 40,
   "id": "1c7764ba",
   "metadata": {},
   "outputs": [
    {
     "data": {
      "text/plain": [
       "array([[ 59.51612903,  60.01397849,  57.36021505,  34.02903226],\n",
       "       [ 60.01397849, 177.03655914,  64.60107527,  90.11182796],\n",
       "       [ 57.36021505,  64.60107527,  62.25591398,  40.98172043],\n",
       "       [ 34.02903226,  90.11182796,  40.98172043,  70.1655914 ]])"
      ]
     },
     "execution_count": 40,
     "metadata": {},
     "output_type": "execute_result"
    }
   ],
   "source": [
    "X = np.stack((A,B,C,D), axis=0)\n",
    "a = np.cov(X)\n",
    "a"
   ]
  },
  {
   "cell_type": "code",
   "execution_count": 41,
   "id": "6a703003",
   "metadata": {},
   "outputs": [
    {
     "data": {
      "text/plain": [
       "array([[ 33,  32,  30,  29,  25,  30,  37,  37,  29,  30,  36,  32,  33,\n",
       "         34,  53,  45,  25,  28,  32,  27,  26,  28,  24,  26,   9,  22,\n",
       "         17,  26,  27,  30,  34],\n",
       "       [ 19,  25,  22,  -1,   4,  14,  21,  22,  23,  27,  29,  25,  29,\n",
       "         15,   9,  24,   0,   2,  26,  17,  19,   9,  20,  -6, -13, -13,\n",
       "        -11,  -4,  -4,  11,  23],\n",
       "       [ 34,  26,  30,  29,  30,  35,  44,  38,  31,  33,  39,  33,  34,\n",
       "         39,  51,  44,  25,  34,  36,  29,  27,  29,  27,  24,  11,  21,\n",
       "         19,  26,  28,  31,  38],\n",
       "       [ 28,  28,  26,  19,  16,  24,  26,  24,  24,  29,  27,  31,  26,\n",
       "         30,  23,  13,  14,  28,  29,  19,  19,  17,  22,   2,   4,   5,\n",
       "          7,   8,  14,  14,  23]])"
      ]
     },
     "execution_count": 41,
     "metadata": {},
     "output_type": "execute_result"
    }
   ],
   "source": [
    "X"
   ]
  },
  {
   "cell_type": "code",
   "execution_count": 42,
   "id": "d2caac04",
   "metadata": {},
   "outputs": [],
   "source": [
    "# here i =2 and j =2; so there will be two canonical vectors (M)"
   ]
  },
  {
   "cell_type": "code",
   "execution_count": 43,
   "id": "65e95abc",
   "metadata": {},
   "outputs": [
    {
     "data": {
      "text/plain": [
       "array([[ 59.51612903,  60.01397849],\n",
       "       [ 60.01397849, 177.03655914]])"
      ]
     },
     "execution_count": 43,
     "metadata": {},
     "output_type": "execute_result"
    }
   ],
   "source": [
    "Sxx=np.cov(A,B)\n",
    "Sxx"
   ]
  },
  {
   "cell_type": "code",
   "execution_count": 44,
   "id": "dbd3aad9",
   "metadata": {},
   "outputs": [
    {
     "data": {
      "text/plain": [
       "array([[62.25591398, 40.98172043],\n",
       "       [40.98172043, 70.1655914 ]])"
      ]
     },
     "execution_count": 44,
     "metadata": {},
     "output_type": "execute_result"
    }
   ],
   "source": [
    "Syy=np.cov(C,D)\n",
    "Syy"
   ]
  },
  {
   "cell_type": "code",
   "execution_count": 45,
   "id": "63e1a691",
   "metadata": {},
   "outputs": [],
   "source": [
    "\n",
    "S=np.cov(x,y)# Transpose of Sxy"
   ]
  },
  {
   "cell_type": "code",
   "execution_count": 46,
   "id": "9acd8806",
   "metadata": {},
   "outputs": [
    {
     "data": {
      "text/plain": [
       "array([[ 59.51612903,  60.01397849,  57.36021505,  34.02903226],\n",
       "       [ 60.01397849, 177.03655914,  64.60107527,  90.11182796],\n",
       "       [ 57.36021505,  64.60107527,  62.25591398,  40.98172043],\n",
       "       [ 34.02903226,  90.11182796,  40.98172043,  70.1655914 ]])"
      ]
     },
     "execution_count": 46,
     "metadata": {},
     "output_type": "execute_result"
    }
   ],
   "source": [
    "S"
   ]
  },
  {
   "cell_type": "code",
   "execution_count": 47,
   "id": "2737bd00",
   "metadata": {},
   "outputs": [],
   "source": [
    "x1 = np.array([A,B]).T\n",
    "y1 = np.array([C,D]).T\n",
    "from sklearn.cross_decomposition import CCA\n",
    "cca = CCA(n_components=2)\n",
    "cca.fit(x1,y1)\n",
    "X_c, Y_c = cca.transform(x1,y1)"
   ]
  },
  {
   "cell_type": "code",
   "execution_count": 48,
   "id": "9e1de0f8",
   "metadata": {},
   "outputs": [
    {
     "name": "stdout",
     "output_type": "stream",
     "text": [
      "[[ 0.44300862  0.2318187 ]\n",
      " [ 0.34865193  0.74143284]\n",
      " [ 0.07274309  0.6828892 ]\n",
      " [-0.1901915  -0.89118902]\n",
      " [-0.67806584 -0.21791022]\n",
      " [ 0.02623884  0.10807752]\n",
      " [ 0.97157417  0.06150013]\n",
      " [ 0.9773872   0.13335159]\n",
      " [-0.05067875  0.83324603]\n",
      " [ 0.10180825  1.0421465 ]\n",
      " [ 0.88884355  0.71481718]\n",
      " [ 0.34865193  0.74143284]\n",
      " [ 0.50113893  0.9503333 ]\n",
      " [ 0.54899136 -0.13409252]\n",
      " [ 2.96957576 -2.05680337]\n",
      " [ 2.02289225 -0.35098848]\n",
      " [-0.70131796 -0.50531607]\n",
      " [-0.30198728 -0.59712926]\n",
      " [ 0.35446496  0.8132843 ]\n",
      " [-0.34402668  0.55914802]\n",
      " [-0.46163549  0.78135631]\n",
      " [-0.26129606 -0.09416904]\n",
      " [-0.71429221  1.01021852]\n",
      " [-0.60696128 -1.0149302 ]\n",
      " [-2.84464533 -0.18329908]\n",
      " [-1.16459199 -1.20386893]\n",
      " [-1.79914029 -0.66763915]\n",
      " [-0.59533521 -0.87122728]\n",
      " [-0.46610034 -0.94973265]\n",
      " [ 0.00879975 -0.10747687]\n",
      " [ 0.59549561  0.44071917]]\n"
     ]
    }
   ],
   "source": [
    "# Canonical VAriates\n",
    "print(X_c)"
   ]
  },
  {
   "cell_type": "code",
   "execution_count": 49,
   "id": "f2a7cb08",
   "metadata": {},
   "outputs": [
    {
     "data": {
      "text/plain": [
       "SignificanceResult(statistic=0.9002722643329992, pvalue=5.433312881624791e-12)"
      ]
     },
     "execution_count": 49,
     "metadata": {},
     "output_type": "execute_result"
    }
   ],
   "source": [
    "scipy.stats.spearmanr(X_c[:,0],Y_c[:,0])"
   ]
  },
  {
   "cell_type": "code",
   "execution_count": 50,
   "id": "2ae9a365",
   "metadata": {},
   "outputs": [
    {
     "data": {
      "text/plain": [
       "SignificanceResult(statistic=0.9965665058266899, pvalue=6.175702096205184e-33)"
      ]
     },
     "execution_count": 50,
     "metadata": {},
     "output_type": "execute_result"
    }
   ],
   "source": [
    "scipy.stats.spearmanr(A,X_c[:,0])# correlation between A and the first canonical vector X_c[0]"
   ]
  },
  {
   "cell_type": "code",
   "execution_count": 51,
   "id": "8195eff2",
   "metadata": {},
   "outputs": [
    {
     "data": {
      "text/plain": [
       "SignificanceResult(statistic=0.7074968972790957, pvalue=8.55709433117153e-06)"
      ]
     },
     "execution_count": 51,
     "metadata": {},
     "output_type": "execute_result"
    }
   ],
   "source": [
    "scipy.stats.spearmanr(B,X_c[:,0])# correlation between A and the first canonical vector X_c[0]"
   ]
  },
  {
   "cell_type": "code",
   "execution_count": 52,
   "id": "f0633c0d",
   "metadata": {},
   "outputs": [
    {
     "data": {
      "text/plain": [
       "SignificanceResult(statistic=0.23893338942944167, pvalue=0.1954924236324643)"
      ]
     },
     "execution_count": 52,
     "metadata": {},
     "output_type": "execute_result"
    }
   ],
   "source": [
    "scipy.stats.spearmanr(A,X_c[:,1])# correlation between A and the first canonical vector X_c[0]"
   ]
  },
  {
   "cell_type": "code",
   "execution_count": 53,
   "id": "3b18542c",
   "metadata": {},
   "outputs": [
    {
     "data": {
      "text/plain": [
       "SignificanceResult(statistic=0.828170925965034, pvalue=8.929215419094392e-09)"
      ]
     },
     "execution_count": 53,
     "metadata": {},
     "output_type": "execute_result"
    }
   ],
   "source": [
    "scipy.stats.spearmanr(B,X_c[:,1])# correlation between A and the first canonical vector X_c[0]"
   ]
  },
  {
   "cell_type": "code",
   "execution_count": 54,
   "id": "819b6dea",
   "metadata": {},
   "outputs": [
    {
     "data": {
      "text/plain": [
       "0.5300926190412523"
      ]
     },
     "execution_count": 54,
     "metadata": {},
     "output_type": "execute_result"
    }
   ],
   "source": [
    "aa=cca.predict(x.T)\n",
    "cca.score(aa,y.T)"
   ]
  },
  {
   "cell_type": "code",
   "execution_count": 55,
   "id": "da796ed2",
   "metadata": {},
   "outputs": [
    {
     "data": {
      "text/plain": [
       "array([[34, 28],\n",
       "       [26, 28],\n",
       "       [30, 26],\n",
       "       [29, 19],\n",
       "       [30, 16],\n",
       "       [35, 24],\n",
       "       [44, 26],\n",
       "       [38, 24],\n",
       "       [31, 24],\n",
       "       [33, 29],\n",
       "       [39, 27],\n",
       "       [33, 31],\n",
       "       [34, 26],\n",
       "       [39, 30],\n",
       "       [51, 23],\n",
       "       [44, 13],\n",
       "       [25, 14],\n",
       "       [34, 28],\n",
       "       [36, 29],\n",
       "       [29, 19],\n",
       "       [27, 19],\n",
       "       [29, 17],\n",
       "       [27, 22],\n",
       "       [24,  2],\n",
       "       [11,  4],\n",
       "       [21,  5],\n",
       "       [19,  7],\n",
       "       [26,  8],\n",
       "       [28, 14],\n",
       "       [31, 14],\n",
       "       [38, 23]])"
      ]
     },
     "execution_count": 55,
     "metadata": {},
     "output_type": "execute_result"
    }
   ],
   "source": [
    "y.T"
   ]
  },
  {
   "cell_type": "code",
   "execution_count": 56,
   "id": "099819ca",
   "metadata": {},
   "outputs": [
    {
     "data": {
      "text/plain": [
       "(2, 31)"
      ]
     },
     "execution_count": 56,
     "metadata": {},
     "output_type": "execute_result"
    }
   ],
   "source": [
    "np.shape(x)"
   ]
  },
  {
   "cell_type": "code",
   "execution_count": 57,
   "id": "d7e6181a",
   "metadata": {},
   "outputs": [
    {
     "data": {
      "text/plain": [
       "array([[ 0.44300862,  0.2318187 ],\n",
       "       [ 0.34865193,  0.74143284],\n",
       "       [ 0.07274309,  0.6828892 ],\n",
       "       [-0.1901915 , -0.89118902],\n",
       "       [-0.67806584, -0.21791022],\n",
       "       [ 0.02623884,  0.10807752],\n",
       "       [ 0.97157417,  0.06150013],\n",
       "       [ 0.9773872 ,  0.13335159],\n",
       "       [-0.05067875,  0.83324603],\n",
       "       [ 0.10180825,  1.0421465 ],\n",
       "       [ 0.88884355,  0.71481718],\n",
       "       [ 0.34865193,  0.74143284],\n",
       "       [ 0.50113893,  0.9503333 ],\n",
       "       [ 0.54899136, -0.13409252],\n",
       "       [ 2.96957576, -2.05680337],\n",
       "       [ 2.02289225, -0.35098848],\n",
       "       [-0.70131796, -0.50531607],\n",
       "       [-0.30198728, -0.59712926],\n",
       "       [ 0.35446496,  0.8132843 ],\n",
       "       [-0.34402668,  0.55914802],\n",
       "       [-0.46163549,  0.78135631],\n",
       "       [-0.26129606, -0.09416904],\n",
       "       [-0.71429221,  1.01021852],\n",
       "       [-0.60696128, -1.0149302 ],\n",
       "       [-2.84464533, -0.18329908],\n",
       "       [-1.16459199, -1.20386893],\n",
       "       [-1.79914029, -0.66763915],\n",
       "       [-0.59533521, -0.87122728],\n",
       "       [-0.46610034, -0.94973265],\n",
       "       [ 0.00879975, -0.10747687],\n",
       "       [ 0.59549561,  0.44071917]])"
      ]
     },
     "execution_count": 57,
     "metadata": {},
     "output_type": "execute_result"
    }
   ],
   "source": [
    "X_c"
   ]
  },
  {
   "cell_type": "code",
   "execution_count": 58,
   "id": "c3d737b7",
   "metadata": {},
   "outputs": [],
   "source": [
    "import pandas as pd\n",
    "import matplotlib.pyplot as plt\n",
    "import numpy as np\n",
    "import seaborn as sns\n",
    "from sklearn.datasets import load_iris\n",
    "from sklearn.cross_decomposition import CCA\n",
    "from sklearn.preprocessing import StandardScaler\n",
    "X,_ = load_iris(return_X_y=True, as_frame=True)"
   ]
  },
  {
   "cell_type": "code",
   "execution_count": 59,
   "id": "5f408682",
   "metadata": {},
   "outputs": [
    {
     "data": {
      "text/plain": [
       "<Axes: >"
      ]
     },
     "execution_count": 59,
     "metadata": {},
     "output_type": "execute_result"
    },
    {
     "data": {
      "image/png": "[encoded data removed]",
      "text/plain": [
       "<Figure size 500x500 with 2 Axes>"
      ]
     },
     "metadata": {},
     "output_type": "display_data"
    }
   ],
   "source": [
    "corr_coeff = X.corr()\n",
    "plt.figure(figsize = (5, 5))\n",
    "sns.heatmap(corr_coeff, cmap='coolwarm', annot=True, linewidths=1, vmin=-1)"
   ]
  },
  {
   "cell_type": "code",
   "execution_count": 60,
   "id": "d21d24f5",
   "metadata": {},
   "outputs": [],
   "source": [
    "X1 = X.iloc[:, :2] # extract first two columns to create a sepal-related features dataset\n",
    "X2 = X.iloc[:, 2:] # extract last two columns to create a petal-related features dataset"
   ]
  },
  {
   "cell_type": "code",
   "execution_count": 61,
   "id": "f8d7f580",
   "metadata": {},
   "outputs": [
    {
     "data": {
      "text/html": [
       "<div>\n",
       "<style scoped>\n",
       "    .dataframe tbody tr th:only-of-type {\n",
       "        vertical-align: middle;\n",
       "    }\n",
       "\n",
       "    .dataframe tbody tr th {\n",
       "        vertical-align: top;\n",
       "    }\n",
       "\n",
       "    .dataframe thead th {\n",
       "        text-align: right;\n",
       "    }\n",
       "</style>\n",
       "<table border=\"1\" class=\"dataframe\">\n",
       "  <thead>\n",
       "    <tr style=\"text-align: right;\">\n",
       "      <th></th>\n",
       "      <th>petal length (cm)</th>\n",
       "      <th>petal width (cm)</th>\n",
       "    </tr>\n",
       "  </thead>\n",
       "  <tbody>\n",
       "    <tr>\n",
       "      <th>0</th>\n",
       "      <td>1.4</td>\n",
       "      <td>0.2</td>\n",
       "    </tr>\n",
       "    <tr>\n",
       "      <th>1</th>\n",
       "      <td>1.4</td>\n",
       "      <td>0.2</td>\n",
       "    </tr>\n",
       "    <tr>\n",
       "      <th>2</th>\n",
       "      <td>1.3</td>\n",
       "      <td>0.2</td>\n",
       "    </tr>\n",
       "    <tr>\n",
       "      <th>3</th>\n",
       "      <td>1.5</td>\n",
       "      <td>0.2</td>\n",
       "    </tr>\n",
       "    <tr>\n",
       "      <th>4</th>\n",
       "      <td>1.4</td>\n",
       "      <td>0.2</td>\n",
       "    </tr>\n",
       "    <tr>\n",
       "      <th>...</th>\n",
       "      <td>...</td>\n",
       "      <td>...</td>\n",
       "    </tr>\n",
       "    <tr>\n",
       "      <th>145</th>\n",
       "      <td>5.2</td>\n",
       "      <td>2.3</td>\n",
       "    </tr>\n",
       "    <tr>\n",
       "      <th>146</th>\n",
       "      <td>5.0</td>\n",
       "      <td>1.9</td>\n",
       "    </tr>\n",
       "    <tr>\n",
       "      <th>147</th>\n",
       "      <td>5.2</td>\n",
       "      <td>2.0</td>\n",
       "    </tr>\n",
       "    <tr>\n",
       "      <th>148</th>\n",
       "      <td>5.4</td>\n",
       "      <td>2.3</td>\n",
       "    </tr>\n",
       "    <tr>\n",
       "      <th>149</th>\n",
       "      <td>5.1</td>\n",
       "      <td>1.8</td>\n",
       "    </tr>\n",
       "  </tbody>\n",
       "</table>\n",
       "<p>150 rows × 2 columns</p>\n",
       "</div>"
      ],
      "text/plain": [
       "     petal length (cm)  petal width (cm)\n",
       "0                  1.4               0.2\n",
       "1                  1.4               0.2\n",
       "2                  1.3               0.2\n",
       "3                  1.5               0.2\n",
       "4                  1.4               0.2\n",
       "..                 ...               ...\n",
       "145                5.2               2.3\n",
       "146                5.0               1.9\n",
       "147                5.2               2.0\n",
       "148                5.4               2.3\n",
       "149                5.1               1.8\n",
       "\n",
       "[150 rows x 2 columns]"
      ]
     },
     "execution_count": 61,
     "metadata": {},
     "output_type": "execute_result"
    }
   ],
   "source": [
    "X2"
   ]
  },
  {
   "cell_type": "code",
   "execution_count": 62,
   "id": "56f54ed7",
   "metadata": {},
   "outputs": [],
   "source": [
    "scaler = StandardScaler() \n",
    "X1_sc = scaler.fit_transform(X1) #scale data\n",
    "X2_sc = scaler.fit_transform(X2) "
   ]
  },
  {
   "cell_type": "code",
   "execution_count": 63,
   "id": "231be72b",
   "metadata": {},
   "outputs": [],
   "source": [
    "n_comp=2 #choose number of canonical variates pairs \n",
    "cca = CCA(scale=False, n_components=n_comp) #define CCA\n",
    "cca.fit(X1_sc, X2_sc) #fit our scaled data\n",
    "X1_c, X2_c = cca.transform(X1_sc, X2_sc) #transform our datasests to obtain canonical variates"
   ]
  },
  {
   "cell_type": "code",
   "execution_count": 64,
   "id": "d8e4887f",
   "metadata": {},
   "outputs": [
    {
     "data": {
      "text/plain": [
       "array([[-0.82621833, -0.12142658],\n",
       "       [-0.82621833, -0.12142658],\n",
       "       [-0.87981776, -0.03881152],\n",
       "       [-0.7726189 , -0.20404163],\n",
       "       [-0.82621833, -0.12142658],\n",
       "       [-0.75300968,  0.04490229],\n",
       "       [-0.87001315,  0.08566044],\n",
       "       [-0.7726189 , -0.20404163],\n",
       "       [-0.82621833, -0.12142658],\n",
       "       [-0.72882407, -0.41112865],\n",
       "       [-0.7726189 , -0.20404163],\n",
       "       [-0.71901947, -0.28665669],\n",
       "       [-0.78242351, -0.32851359],\n",
       "       [-0.9432218 , -0.08066843],\n",
       "       [-0.93341719,  0.04380354],\n",
       "       [-0.86020855,  0.2101324 ],\n",
       "       [-0.96740741,  0.37536251],\n",
       "       [-0.87001315,  0.08566044],\n",
       "       [-0.70921486, -0.16218473],\n",
       "       [-0.81641372,  0.00304539],\n",
       "       [-0.66542003, -0.36927174],\n",
       "       [-0.86020855,  0.2101324 ],\n",
       "       [-1.04061606,  0.20903365],\n",
       "       [-0.79680451,  0.25198931],\n",
       "       [-0.55822117, -0.53450185],\n",
       "       [-0.71901947, -0.28665669],\n",
       "       [-0.80660911,  0.12751735],\n",
       "       [-0.7726189 , -0.20404163],\n",
       "       [-0.82621833, -0.12142658],\n",
       "       [-0.71901947, -0.28665669],\n",
       "       [-0.71901947, -0.28665669],\n",
       "       [-0.86020855,  0.2101324 ],\n",
       "       [-0.72882407, -0.41112865],\n",
       "       [-0.82621833, -0.12142658],\n",
       "       [-0.7726189 , -0.20404163],\n",
       "       [-0.93341719,  0.04380354],\n",
       "       [-0.87981776, -0.03881152],\n",
       "       [-0.78242351, -0.32851359],\n",
       "       [-0.87981776, -0.03881152],\n",
       "       [-0.7726189 , -0.20404163],\n",
       "       [-0.92361259,  0.1682755 ],\n",
       "       [-0.92361259,  0.1682755 ],\n",
       "       [-0.87981776, -0.03881152],\n",
       "       [-0.89419876,  0.54169138],\n",
       "       [-0.64581082, -0.12032782],\n",
       "       [-0.87001315,  0.08566044],\n",
       "       [-0.71901947, -0.28665669],\n",
       "       [-0.82621833, -0.12142658],\n",
       "       [-0.7726189 , -0.20404163],\n",
       "       [-0.82621833, -0.12142658],\n",
       "       [ 0.41702504, -0.36267921],\n",
       "       [ 0.26603135,  0.00963792],\n",
       "       [ 0.48042908, -0.32082231],\n",
       "       [ 0.08562384,  0.00853916],\n",
       "       [ 0.31963078, -0.07297714],\n",
       "       [ 0.353621  , -0.40453612],\n",
       "       [ 0.32943539,  0.05149482],\n",
       "       [-0.15818772, -0.0344165 ],\n",
       "       [ 0.40722043, -0.48715117],\n",
       "       [-0.01177042,  0.29824124],\n",
       "       [-0.05098885, -0.19964661],\n",
       "       [ 0.10523305,  0.25748308],\n",
       "       [ 0.21700831, -0.61272189],\n",
       "       [ 0.41702504, -0.36267921],\n",
       "       [-0.12877389,  0.33899939],\n",
       "       [ 0.25622674, -0.11483404],\n",
       "       [ 0.26603135,  0.00963792],\n",
       "       [ 0.27060774, -0.69533695],\n",
       "       [ 0.26603135,  0.00963792],\n",
       "       [ 0.11961405, -0.32301982],\n",
       "       [ 0.29544517,  0.3830538 ],\n",
       "       [ 0.08562384,  0.00853916],\n",
       "       [ 0.48042908, -0.32082231],\n",
       "       [ 0.50461468, -0.77685325],\n",
       "       [ 0.24642213, -0.23930601],\n",
       "       [ 0.25622674, -0.11483404],\n",
       "       [ 0.47062447, -0.44529427],\n",
       "       [ 0.44643886,  0.01073667],\n",
       "       [ 0.26603135,  0.00963792],\n",
       "       [-0.05098885, -0.19964661],\n",
       "       [ 0.06601462, -0.24040476],\n",
       "       [ 0.05621001, -0.36487672],\n",
       "       [ 0.07581923, -0.1159328 ],\n",
       "       [ 0.54383312, -0.2789654 ],\n",
       "       [ 0.26603135,  0.00963792],\n",
       "       [ 0.22223652,  0.21672493],\n",
       "       [ 0.37323021, -0.15559219],\n",
       "       [ 0.30002156, -0.32192106],\n",
       "       [ 0.13922327, -0.07407589],\n",
       "       [ 0.08562384,  0.00853916],\n",
       "       [ 0.34381639, -0.52900808],\n",
       "       [ 0.3634256 , -0.28006416],\n",
       "       [ 0.12941866, -0.19854785],\n",
       "       [-0.15818772, -0.0344165 ],\n",
       "       [ 0.1928227 , -0.15669095],\n",
       "       [ 0.23661752, -0.36377797],\n",
       "       [ 0.1928227 , -0.15669095],\n",
       "       [ 0.24642213, -0.23930601],\n",
       "       [-0.36278084,  0.42051569],\n",
       "       [ 0.13922327, -0.07407589],\n",
       "       [ 0.63207459,  0.84128225],\n",
       "       [ 0.41244864,  0.34229565],\n",
       "       [ 0.75365445,  0.09554924],\n",
       "       [ 0.72424063, -0.27786664],\n",
       "       [ 0.65626019,  0.38525131],\n",
       "       [ 1.12885047, -0.48275615],\n",
       "       [ 0.1784417 ,  0.42381195],\n",
       "       [ 1.09943665, -0.85617204],\n",
       "       [ 0.83143949, -0.44309676],\n",
       "       [ 0.68567402,  0.7586672 ],\n",
       "       [ 0.36865382,  0.54938267],\n",
       "       [ 0.51964751,  0.17706554],\n",
       "       [ 0.53925672,  0.42600946],\n",
       "       [ 0.31505439,  0.63199772],\n",
       "       [ 0.19347452,  1.37773074],\n",
       "       [ 0.34446821,  1.00541361],\n",
       "       [ 0.67064119, -0.19525159],\n",
       "       [ 1.13865508, -0.35828419],\n",
       "       [ 1.20205912, -0.31642728],\n",
       "       [ 0.53402851, -0.40343736],\n",
       "       [ 0.55886594,  0.67495339],\n",
       "       [ 0.26145496,  0.71461278],\n",
       "       [ 1.22624473, -0.77245822],\n",
       "       [ 0.3490446 ,  0.30043875],\n",
       "       [ 0.64645559,  0.26077935],\n",
       "       [ 0.93863835, -0.60832687],\n",
       "       [ 0.29544517,  0.3830538 ],\n",
       "       [ 0.3490446 ,  0.30043875],\n",
       "       [ 0.59285615,  0.34339441],\n",
       "       [ 0.91902914, -0.85727079],\n",
       "       [ 0.94844296, -0.48385491],\n",
       "       [ 1.06544643, -0.52461306],\n",
       "       [ 0.54906133,  0.55048142],\n",
       "       [ 0.58762794, -0.48605242],\n",
       "       [ 0.89941992, -1.10621471],\n",
       "       [ 0.77326367,  0.34449316],\n",
       "       [ 0.46147168,  0.96465546],\n",
       "       [ 0.67064119, -0.19525159],\n",
       "       [ 0.29544517,  0.3830538 ],\n",
       "       [ 0.48565729,  0.50862452],\n",
       "       [ 0.46147168,  0.96465546],\n",
       "       [ 0.23726935,  1.17064372],\n",
       "       [ 0.41244864,  0.34229565],\n",
       "       [ 0.6660648 ,  0.50972327],\n",
       "       [ 0.47127629,  1.08912742],\n",
       "       [ 0.29086878,  1.08802866],\n",
       "       [ 0.35884921,  0.42491071],\n",
       "       [ 0.42225325,  0.46676761],\n",
       "       [ 0.39806764,  0.92279855],\n",
       "       [ 0.45624347,  0.13520863]])"
      ]
     },
     "execution_count": 64,
     "metadata": {},
     "output_type": "execute_result"
    }
   ],
   "source": [
    "X2_c"
   ]
  },
  {
   "cell_type": "code",
   "execution_count": 65,
   "id": "61ed0844",
   "metadata": {},
   "outputs": [
    {
     "data": {
      "text/plain": [
       "<BarContainer object of 2 artists>"
      ]
     },
     "execution_count": 65,
     "metadata": {},
     "output_type": "execute_result"
    },
    {
     "data": {
      "image/png": "[encoded data removed]",
      "text/plain": [
       "<Figure size 640x480 with 1 Axes>"
      ]
     },
     "metadata": {},
     "output_type": "display_data"
    }
   ],
   "source": [
    "comp_corr = [np.corrcoef(X1_c[:, i], X2_c[:, i])[1][0] for i in range(n_comp)]\n",
    "plt.bar(['CC1', 'CC2'], comp_corr, color='lightgrey', width = 0.8, edgecolor='k')"
   ]
  },
  {
   "cell_type": "code",
   "execution_count": 66,
   "id": "5cbe21db",
   "metadata": {},
   "outputs": [
    {
     "data": {
      "text/plain": [
       "<matplotlib.collections.PathCollection at 0x298f8d330>"
      ]
     },
     "execution_count": 66,
     "metadata": {},
     "output_type": "execute_result"
    },
    {
     "data": {
      "image/png": "[encoded data removed]",
      "text/plain": [
       "<Figure size 640x480 with 1 Axes>"
      ]
     },
     "metadata": {},
     "output_type": "display_data"
    }
   ],
   "source": [
    "plt.scatter(X1_c[:,1],X2_c[:,1])"
   ]
  },
  {
   "cell_type": "code",
   "execution_count": 67,
   "id": "1b8f6317",
   "metadata": {},
   "outputs": [
    {
     "data": {
      "text/plain": [
       "array([[ 0.89224641,  0.3880084 ],\n",
       "       [-0.45786609,  0.92165584]])"
      ]
     },
     "execution_count": 67,
     "metadata": {},
     "output_type": "execute_result"
    }
   ],
   "source": [
    "cca.x_loadings_ #get loadings for canonical variate of X1 dataset"
   ]
  },
  {
   "cell_type": "code",
   "execution_count": 68,
   "id": "9a907585",
   "metadata": {},
   "outputs": [
    {
     "data": {
      "text/plain": [
       "array([[-1.22550031e+00,  4.96811606e-01],\n",
       "       [-1.00225906e+00, -6.41106902e-01],\n",
       "       [-1.40424577e+00, -3.41279745e-01],\n",
       "       [-1.42660257e+00, -6.02150642e-01],\n",
       "       [-1.42649366e+00,  6.46725185e-01],\n",
       "       [-1.24774820e+00,  1.48481654e+00],\n",
       "       [-1.69455740e+00,  1.40260717e-02],\n",
       "       [-1.24785710e+00,  2.35940709e-01],\n",
       "       [-1.47131616e+00, -1.12389244e+00],\n",
       "       [-1.09157734e+00, -4.35714664e-01],\n",
       "       [-1.06911164e+00,  1.07403206e+00],\n",
       "       [-1.47120725e+00,  1.24983390e-01],\n",
       "       [-1.11393414e+00, -6.96585562e-01],\n",
       "       [-1.67230951e+00, -9.73978858e-01],\n",
       "       [-8.90366175e-01,  1.91212341e+00],\n",
       "       [-1.35931437e+00,  2.67821370e+00],\n",
       "       [-1.24774820e+00,  1.48481654e+00],\n",
       "       [-1.22550031e+00,  4.96811606e-01],\n",
       "       [-8.23404692e-01,  1.44586028e+00],\n",
       "       [-1.49345514e+00,  1.11298832e+00],\n",
       "       [-8.01156802e-01,  4.57855346e-01],\n",
       "       [-1.40413686e+00,  9.07596082e-01],\n",
       "       [-1.87319396e+00,  4.24810548e-01],\n",
       "       [-1.04686375e+00,  8.60271301e-02],\n",
       "       [-1.47120725e+00,  1.24983390e-01],\n",
       "       [-8.90583986e-01, -5.85628243e-01],\n",
       "       [-1.24785710e+00,  2.35940709e-01],\n",
       "       [-1.11382523e+00,  5.52290265e-01],\n",
       "       [-1.02450695e+00,  3.46898027e-01],\n",
       "       [-1.40424577e+00, -3.41279745e-01],\n",
       "       [-1.20325242e+00, -4.91193324e-01],\n",
       "       [-8.01156802e-01,  4.57855346e-01],\n",
       "       [-1.64973490e+00,  1.78464369e+00],\n",
       "       [-1.40402796e+00,  2.15647191e+00],\n",
       "       [-1.09157734e+00, -4.35714664e-01],\n",
       "       [-1.06922054e+00, -1.74843767e-01],\n",
       "       [-7.78800005e-01,  7.18726243e-01],\n",
       "       [-1.53816873e+00,  5.91246525e-01],\n",
       "       [-1.56063444e+00, -9.18500199e-01],\n",
       "       [-1.13618203e+00,  2.91419368e-01],\n",
       "       [-1.33717538e+00,  4.41332947e-01],\n",
       "       [-8.23731410e-01, -2.30076721e+00],\n",
       "       [-1.73927099e+00, -5.07715723e-01],\n",
       "       [-1.33717538e+00,  4.41332947e-01],\n",
       "       [-1.49345514e+00,  1.11298832e+00],\n",
       "       [-1.11393414e+00, -6.96585562e-01],\n",
       "       [-1.49345514e+00,  1.11298832e+00],\n",
       "       [-1.51592084e+00, -3.96758404e-01],\n",
       "       [-1.18078671e+00,  1.01855340e+00],\n",
       "       [-1.15853882e+00,  3.05484709e-02],\n",
       "       [ 1.16428096e+00,  9.34729419e-01],\n",
       "       [ 4.94230507e-01,  6.01857463e-01],\n",
       "       [ 1.14192416e+00,  6.73858521e-01],\n",
       "       [ 2.93019341e-01, -1.74598061e+00],\n",
       "       [ 9.63178697e-01, -1.64232830e-01],\n",
       "       [ 6.97780967e-02, -6.08062104e-01],\n",
       "       [ 2.93237153e-01,  7.51771042e-01],\n",
       "       [-4.66349388e-01, -1.87346033e+00],\n",
       "       [ 9.85535493e-01,  9.66380675e-02],\n",
       "       [-3.99279000e-01, -1.09084764e+00],\n",
       "       [ 2.59880218e-03, -2.63955062e+00],\n",
       "       [ 1.14491689e-01, -8.63203095e-02],\n",
       "       [ 9.40712995e-01, -1.67397955e+00],\n",
       "       [ 4.27160118e-01, -1.80755229e-01],\n",
       "       [-1.31215257e-01, -4.58148525e-01],\n",
       "       [ 9.18574011e-01,  5.62901203e-01],\n",
       "       [-2.20533536e-01, -2.52756287e-01],\n",
       "       [ 2.70771451e-01, -7.57975683e-01],\n",
       "       [ 1.16406315e+00, -1.56302224e+00],\n",
       "       [ 2.26057858e-01, -1.27971748e+00],\n",
       "       [-6.41448686e-02,  3.24464166e-01],\n",
       "       [ 5.16478397e-01, -3.86147467e-01],\n",
       "       [ 1.00778338e+00, -8.91366862e-01],\n",
       "       [ 5.16478397e-01, -3.86147467e-01],\n",
       "       [ 7.62185343e-01, -1.43192511e-02],\n",
       "       [ 8.96217214e-01,  3.02030305e-01],\n",
       "       [ 1.29820392e+00,  2.20314809e-03],\n",
       "       [ 1.00789229e+00,  3.57508965e-01],\n",
       "       [ 3.15485043e-01, -2.36233888e-01],\n",
       "       [ 2.48414654e-01, -1.01884658e+00],\n",
       "       [ 2.03701062e-01, -1.54058837e+00],\n",
       "       [ 2.03701062e-01, -1.54058837e+00],\n",
       "       [ 2.70771451e-01, -7.57975683e-01],\n",
       "       [ 4.94121601e-01, -6.47018364e-01],\n",
       "       [-4.43883686e-01, -3.63713606e-01],\n",
       "       [-1.31106351e-01,  7.90727302e-01],\n",
       "       [ 9.18574011e-01,  5.62901203e-01],\n",
       "       [ 1.18641994e+00, -1.30215134e+00],\n",
       "       [-2.20533536e-01, -2.52756287e-01],\n",
       "       [ 1.14382783e-01, -1.33519614e+00],\n",
       "       [ 2.50645043e-02, -1.12980390e+00],\n",
       "       [ 3.37841839e-01,  2.46370091e-02],\n",
       "       [ 3.60089729e-01, -9.63367921e-01],\n",
       "       [-2.65356034e-01, -2.02337391e+00],\n",
       "       [ 4.74213005e-02, -8.68933001e-01],\n",
       "       [-1.08858461e-01, -1.97277628e-01],\n",
       "       [-1.95401822e-02, -4.02669866e-01],\n",
       "       [ 5.38835193e-01, -1.25276570e-01],\n",
       "       [-3.32317517e-01, -1.55711077e+00],\n",
       "       [ 6.97780967e-02, -6.08062104e-01],\n",
       "       [ 2.93237153e-01,  7.51771042e-01],\n",
       "       [ 2.70771451e-01, -7.57975683e-01],\n",
       "       [ 1.45459259e+00,  5.79423602e-01],\n",
       "       [ 6.50510268e-01, -6.97979104e-02],\n",
       "       [ 7.84542139e-01,  2.46551646e-01],\n",
       "       [ 2.01296796e+00,  8.56816898e-01],\n",
       "       [-5.55667667e-01, -1.66806809e+00],\n",
       "       [ 1.76726102e+00,  4.84988682e-01],\n",
       "       [ 1.45448368e+00, -6.69452225e-01],\n",
       "       [ 1.03035799e+00,  1.86725569e+00],\n",
       "       [ 6.05905582e-01,  6.57336122e-01],\n",
       "       [ 9.40821901e-01, -4.25103727e-01],\n",
       "       [ 1.11956736e+00,  4.12987624e-01],\n",
       "       [ 3.37732933e-01, -1.22423882e+00],\n",
       "       [ 1.81453172e-01, -5.52583445e-01],\n",
       "       [ 4.94230507e-01,  6.01857463e-01],\n",
       "       [ 7.84542139e-01,  2.46551646e-01],\n",
       "       [ 1.41009681e+00,  2.55543346e+00],\n",
       "       [ 2.48191616e+00,  9.07266057e-02],\n",
       "       [ 9.40712995e-01, -1.67397955e+00],\n",
       "       [ 1.05260588e+00,  8.79250759e-01],\n",
       "       [-4.18969784e-02, -6.63540763e-01],\n",
       "       [ 2.30327960e+00,  5.01511082e-01],\n",
       "       [ 8.29146826e-01, -4.80582386e-01],\n",
       "       [ 7.39937453e-01,  9.73685679e-01],\n",
       "       [ 1.38763111e+00,  1.04568674e+00],\n",
       "       [ 6.28153472e-01, -3.30668808e-01],\n",
       "       [ 3.37841839e-01,  2.46370091e-02],\n",
       "       [ 8.51503622e-01, -2.19711489e-01],\n",
       "       [ 1.56626766e+00,  6.34902261e-01],\n",
       "       [ 1.96825437e+00,  3.35075104e-01],\n",
       "       [ 1.63344696e+00,  2.66639078e+00],\n",
       "       [ 8.51503622e-01, -2.19711489e-01],\n",
       "       [ 7.39828547e-01, -2.75190148e-01],\n",
       "       [ 6.95114955e-01, -7.96931943e-01],\n",
       "       [ 2.12464304e+00,  9.12295558e-01],\n",
       "       [ 2.03918874e-01,  9.57163279e-01],\n",
       "       [ 5.83548785e-01,  3.96465225e-01],\n",
       "       [ 2.26166764e-01, -3.08416502e-02],\n",
       "       [ 1.14192416e+00,  6.73858521e-01],\n",
       "       [ 9.18574011e-01,  5.62901203e-01],\n",
       "       [ 1.14192416e+00,  6.73858521e-01],\n",
       "       [ 2.70771451e-01, -7.57975683e-01],\n",
       "       [ 9.40930807e-01,  8.23772100e-01],\n",
       "       [ 7.39937453e-01,  9.73685679e-01],\n",
       "       [ 1.00789229e+00,  3.57508965e-01],\n",
       "       [ 1.00778338e+00, -8.91366862e-01],\n",
       "       [ 7.84542139e-01,  2.46551646e-01],\n",
       "       [ 9.22437988e-02,  9.01684620e-01],\n",
       "       [ 1.14491689e-01, -8.63203095e-02]])"
      ]
     },
     "execution_count": 68,
     "metadata": {},
     "output_type": "execute_result"
    }
   ],
   "source": [
    "X1_c"
   ]
  },
  {
   "cell_type": "code",
   "execution_count": 69,
   "id": "d1e4af13",
   "metadata": {},
   "outputs": [
    {
     "data": {
      "text/plain": [
       "array([[-1.34022653e+00, -1.31544430e+00],\n",
       "       [-1.34022653e+00, -1.31544430e+00],\n",
       "       [-1.39706395e+00, -1.31544430e+00],\n",
       "       [-1.28338910e+00, -1.31544430e+00],\n",
       "       [-1.34022653e+00, -1.31544430e+00],\n",
       "       [-1.16971425e+00, -1.05217993e+00],\n",
       "       [-1.34022653e+00, -1.18381211e+00],\n",
       "       [-1.28338910e+00, -1.31544430e+00],\n",
       "       [-1.34022653e+00, -1.31544430e+00],\n",
       "       [-1.28338910e+00, -1.44707648e+00],\n",
       "       [-1.28338910e+00, -1.31544430e+00],\n",
       "       [-1.22655167e+00, -1.31544430e+00],\n",
       "       [-1.34022653e+00, -1.44707648e+00],\n",
       "       [-1.51073881e+00, -1.44707648e+00],\n",
       "       [-1.45390138e+00, -1.31544430e+00],\n",
       "       [-1.28338910e+00, -1.05217993e+00],\n",
       "       [-1.39706395e+00, -1.05217993e+00],\n",
       "       [-1.34022653e+00, -1.18381211e+00],\n",
       "       [-1.16971425e+00, -1.18381211e+00],\n",
       "       [-1.28338910e+00, -1.18381211e+00],\n",
       "       [-1.16971425e+00, -1.31544430e+00],\n",
       "       [-1.28338910e+00, -1.05217993e+00],\n",
       "       [-1.56757623e+00, -1.31544430e+00],\n",
       "       [-1.16971425e+00, -9.20547742e-01],\n",
       "       [-1.05603939e+00, -1.31544430e+00],\n",
       "       [-1.22655167e+00, -1.31544430e+00],\n",
       "       [-1.22655167e+00, -1.05217993e+00],\n",
       "       [-1.28338910e+00, -1.31544430e+00],\n",
       "       [-1.34022653e+00, -1.31544430e+00],\n",
       "       [-1.22655167e+00, -1.31544430e+00],\n",
       "       [-1.22655167e+00, -1.31544430e+00],\n",
       "       [-1.28338910e+00, -1.05217993e+00],\n",
       "       [-1.28338910e+00, -1.44707648e+00],\n",
       "       [-1.34022653e+00, -1.31544430e+00],\n",
       "       [-1.28338910e+00, -1.31544430e+00],\n",
       "       [-1.45390138e+00, -1.31544430e+00],\n",
       "       [-1.39706395e+00, -1.31544430e+00],\n",
       "       [-1.34022653e+00, -1.44707648e+00],\n",
       "       [-1.39706395e+00, -1.31544430e+00],\n",
       "       [-1.28338910e+00, -1.31544430e+00],\n",
       "       [-1.39706395e+00, -1.18381211e+00],\n",
       "       [-1.39706395e+00, -1.18381211e+00],\n",
       "       [-1.39706395e+00, -1.31544430e+00],\n",
       "       [-1.22655167e+00, -7.88915558e-01],\n",
       "       [-1.05603939e+00, -1.05217993e+00],\n",
       "       [-1.34022653e+00, -1.18381211e+00],\n",
       "       [-1.22655167e+00, -1.31544430e+00],\n",
       "       [-1.34022653e+00, -1.31544430e+00],\n",
       "       [-1.28338910e+00, -1.31544430e+00],\n",
       "       [-1.34022653e+00, -1.31544430e+00],\n",
       "       [ 5.35408562e-01,  2.64141916e-01],\n",
       "       [ 4.21733708e-01,  3.95774101e-01],\n",
       "       [ 6.49083415e-01,  3.95774101e-01],\n",
       "       [ 1.37546573e-01,  1.32509732e-01],\n",
       "       [ 4.78571135e-01,  3.95774101e-01],\n",
       "       [ 4.21733708e-01,  1.32509732e-01],\n",
       "       [ 5.35408562e-01,  5.27406285e-01],\n",
       "       [-2.60315415e-01, -2.62386821e-01],\n",
       "       [ 4.78571135e-01,  1.32509732e-01],\n",
       "       [ 8.07091462e-02,  2.64141916e-01],\n",
       "       [-1.46640561e-01, -2.62386821e-01],\n",
       "       [ 2.51221427e-01,  3.95774101e-01],\n",
       "       [ 1.37546573e-01, -2.62386821e-01],\n",
       "       [ 5.35408562e-01,  2.64141916e-01],\n",
       "       [-8.98031345e-02,  1.32509732e-01],\n",
       "       [ 3.64896281e-01,  2.64141916e-01],\n",
       "       [ 4.21733708e-01,  3.95774101e-01],\n",
       "       [ 1.94384000e-01, -2.62386821e-01],\n",
       "       [ 4.21733708e-01,  3.95774101e-01],\n",
       "       [ 8.07091462e-02, -1.30754636e-01],\n",
       "       [ 5.92245988e-01,  7.90670654e-01],\n",
       "       [ 1.37546573e-01,  1.32509732e-01],\n",
       "       [ 6.49083415e-01,  3.95774101e-01],\n",
       "       [ 5.35408562e-01,  8.77547895e-04],\n",
       "       [ 3.08058854e-01,  1.32509732e-01],\n",
       "       [ 3.64896281e-01,  2.64141916e-01],\n",
       "       [ 5.92245988e-01,  2.64141916e-01],\n",
       "       [ 7.05920842e-01,  6.59038469e-01],\n",
       "       [ 4.21733708e-01,  3.95774101e-01],\n",
       "       [-1.46640561e-01, -2.62386821e-01],\n",
       "       [ 2.38717193e-02, -1.30754636e-01],\n",
       "       [-3.29657076e-02, -2.62386821e-01],\n",
       "       [ 8.07091462e-02,  8.77547895e-04],\n",
       "       [ 7.62758269e-01,  5.27406285e-01],\n",
       "       [ 4.21733708e-01,  3.95774101e-01],\n",
       "       [ 4.21733708e-01,  5.27406285e-01],\n",
       "       [ 5.35408562e-01,  3.95774101e-01],\n",
       "       [ 3.64896281e-01,  1.32509732e-01],\n",
       "       [ 1.94384000e-01,  1.32509732e-01],\n",
       "       [ 1.37546573e-01,  1.32509732e-01],\n",
       "       [ 3.64896281e-01,  8.77547895e-04],\n",
       "       [ 4.78571135e-01,  2.64141916e-01],\n",
       "       [ 1.37546573e-01,  8.77547895e-04],\n",
       "       [-2.60315415e-01, -2.62386821e-01],\n",
       "       [ 2.51221427e-01,  1.32509732e-01],\n",
       "       [ 2.51221427e-01,  8.77547895e-04],\n",
       "       [ 2.51221427e-01,  1.32509732e-01],\n",
       "       [ 3.08058854e-01,  1.32509732e-01],\n",
       "       [-4.30827696e-01, -1.30754636e-01],\n",
       "       [ 1.94384000e-01,  1.32509732e-01],\n",
       "       [ 1.27429511e+00,  1.71209594e+00],\n",
       "       [ 7.62758269e-01,  9.22302838e-01],\n",
       "       [ 1.21745768e+00,  1.18556721e+00],\n",
       "       [ 1.04694540e+00,  7.90670654e-01],\n",
       "       [ 1.16062026e+00,  1.31719939e+00],\n",
       "       [ 1.61531967e+00,  1.18556721e+00],\n",
       "       [ 4.21733708e-01,  6.59038469e-01],\n",
       "       [ 1.44480739e+00,  7.90670654e-01],\n",
       "       [ 1.16062026e+00,  7.90670654e-01],\n",
       "       [ 1.33113254e+00,  1.71209594e+00],\n",
       "       [ 7.62758269e-01,  1.05393502e+00],\n",
       "       [ 8.76433123e-01,  9.22302838e-01],\n",
       "       [ 9.90107977e-01,  1.18556721e+00],\n",
       "       [ 7.05920842e-01,  1.05393502e+00],\n",
       "       [ 7.62758269e-01,  1.58046376e+00],\n",
       "       [ 8.76433123e-01,  1.44883158e+00],\n",
       "       [ 9.90107977e-01,  7.90670654e-01],\n",
       "       [ 1.67215710e+00,  1.31719939e+00],\n",
       "       [ 1.78583195e+00,  1.44883158e+00],\n",
       "       [ 7.05920842e-01,  3.95774101e-01],\n",
       "       [ 1.10378283e+00,  1.44883158e+00],\n",
       "       [ 6.49083415e-01,  1.05393502e+00],\n",
       "       [ 1.67215710e+00,  1.05393502e+00],\n",
       "       [ 6.49083415e-01,  7.90670654e-01],\n",
       "       [ 1.10378283e+00,  1.18556721e+00],\n",
       "       [ 1.27429511e+00,  7.90670654e-01],\n",
       "       [ 5.92245988e-01,  7.90670654e-01],\n",
       "       [ 6.49083415e-01,  7.90670654e-01],\n",
       "       [ 1.04694540e+00,  1.18556721e+00],\n",
       "       [ 1.16062026e+00,  5.27406285e-01],\n",
       "       [ 1.33113254e+00,  9.22302838e-01],\n",
       "       [ 1.50164482e+00,  1.05393502e+00],\n",
       "       [ 1.04694540e+00,  1.31719939e+00],\n",
       "       [ 7.62758269e-01,  3.95774101e-01],\n",
       "       [ 1.04694540e+00,  2.64141916e-01],\n",
       "       [ 1.33113254e+00,  1.44883158e+00],\n",
       "       [ 1.04694540e+00,  1.58046376e+00],\n",
       "       [ 9.90107977e-01,  7.90670654e-01],\n",
       "       [ 5.92245988e-01,  7.90670654e-01],\n",
       "       [ 9.33270550e-01,  1.18556721e+00],\n",
       "       [ 1.04694540e+00,  1.58046376e+00],\n",
       "       [ 7.62758269e-01,  1.44883158e+00],\n",
       "       [ 7.62758269e-01,  9.22302838e-01],\n",
       "       [ 1.21745768e+00,  1.44883158e+00],\n",
       "       [ 1.10378283e+00,  1.71209594e+00],\n",
       "       [ 8.19595696e-01,  1.44883158e+00],\n",
       "       [ 7.05920842e-01,  9.22302838e-01],\n",
       "       [ 8.19595696e-01,  1.05393502e+00],\n",
       "       [ 9.33270550e-01,  1.44883158e+00],\n",
       "       [ 7.62758269e-01,  7.90670654e-01]])"
      ]
     },
     "execution_count": 69,
     "metadata": {},
     "output_type": "execute_result"
    }
   ],
   "source": [
    "X2_sc"
   ]
  },
  {
   "cell_type": "code",
   "execution_count": 70,
   "id": "b4e01328",
   "metadata": {},
   "outputs": [
    {
     "data": {
      "text/plain": [
       "PearsonRResult(statistic=-0.4767281671307459, pvalue=6.958628003421033e-10)"
      ]
     },
     "execution_count": 70,
     "metadata": {},
     "output_type": "execute_result"
    }
   ],
   "source": [
    "scipy.stats.pearsonr(X1_sc[:,1],X1_c[:,0])"
   ]
  },
  {
   "cell_type": "code",
   "execution_count": 71,
   "id": "1e4a1445",
   "metadata": {},
   "outputs": [
    {
     "data": {
      "text/plain": [
       "PearsonRResult(statistic=0.765321120408911, pvalue=4.076043353342705e-30)"
      ]
     },
     "execution_count": 71,
     "metadata": {},
     "output_type": "execute_result"
    }
   ],
   "source": [
    "aa=cca.predict(X1_sc)\n",
    "cca.score(aa,X2_sc)\n",
    "scipy.stats.pearsonr(aa[:,1],X2_sc[:,1])"
   ]
  },
  {
   "cell_type": "code",
   "execution_count": null,
   "id": "6b1985fa",
   "metadata": {},
   "outputs": [],
   "source": []
  }
 ],
 "metadata": {
  "kernelspec": {
   "display_name": "Python 3 (ipykernel)",
   "language": "python",
   "name": "python3"
  },
  "language_info": {
   "codemirror_mode": {
    "name": "ipython",
    "version": 3
   },
   "file_extension": ".py",
   "mimetype": "text/x-python",
   "name": "python",
   "nbconvert_exporter": "python",
   "pygments_lexer": "ipython3",
   "version": "3.10.12"
  }
 },
 "nbformat": 4,
 "nbformat_minor": 5
}
