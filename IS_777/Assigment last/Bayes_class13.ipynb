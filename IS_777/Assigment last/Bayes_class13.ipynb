{
 "cells": [
  {
   "cell_type": "code",
   "execution_count": 1,
   "id": "0468b99e-488c-468b-aa7d-d647b2920846",
   "metadata": {},
   "outputs": [],
   "source": [
    "import numpy as np\n",
    "import glob\n",
    "import datetime\n",
    "from datetime import date\n",
    "from datetime import timedelta\n",
    "# import datetime\n",
    "# from dateutil.relativedelta import relativedelta\n",
    "# from datetime import datetime\n",
    "# import pandas as pd\n",
    "import os\n",
    "from netCDF4 import Dataset\n",
    "import netCDF4 as nc\n",
    "import xarray as xr\n",
    "# from osgeo import gd\n",
    "# import geopandas as gpd\n",
    "# from shapely.geometry import MultiPolygon, Polygon, Point\n",
    "# from scipy import io\n",
    "import pandas as pd\n",
    "import matplotlib.pyplot as plt"
   ]
  },
  {
   "cell_type": "code",
   "execution_count": null,
   "id": "fccbe8f9-9d00-41f8-928c-bd4088a7d152",
   "metadata": {},
   "outputs": [],
   "source": [
    "#example 1"
   ]
  },
  {
   "cell_type": "code",
   "execution_count": 25,
   "id": "cc0fd87e-43b0-4fe6-b79a-41258f4e38cc",
   "metadata": {},
   "outputs": [],
   "source": [
    "\n",
    "E=[19,25,22,-1,4,14,21,22,23,27,29,25,29,15,29,24,0,2,26,17,19,9,20,-6,-13,-13,-11,-4,-4,11,23]"
   ]
  },
  {
   "cell_type": "code",
   "execution_count": 39,
   "id": "8e302bc0-db0e-4415-8ae4-512673c9d020",
   "metadata": {},
   "outputs": [],
   "source": [
    "A=[0,1,1.11,0,0,0,0,.04,.02,.05,.34,.06,.18,.02,.02,0,0,0,0,.45,0,0,.7,0,0,0,0,0,.01,.03,.05]\n"
   ]
  },
  {
   "cell_type": "code",
   "execution_count": 40,
   "id": "c05c15fa-2713-4e04-9983-76b61de61448",
   "metadata": {},
   "outputs": [
    {
     "data": {
      "text/plain": [
       "24"
      ]
     },
     "execution_count": 40,
     "metadata": {},
     "output_type": "execute_result"
    }
   ],
   "source": [
    "#lets think that {E1} is the probability of having A>=0\n",
    "E1=np.shape(np.where(np.array(E)>=0))[1]\n",
    "E1"
   ]
  },
  {
   "cell_type": "code",
   "execution_count": 41,
   "id": "dbb56efa-9178-4563-bf2f-5d4d654f6962",
   "metadata": {},
   "outputs": [
    {
     "data": {
      "text/plain": [
       "7"
      ]
     },
     "execution_count": 41,
     "metadata": {},
     "output_type": "execute_result"
    }
   ],
   "source": [
    "#lets think that {E2} is the probability of having A<0\n",
    "E2=np.shape(np.where(np.array(E)<0))[1]\n",
    "E2"
   ]
  },
  {
   "cell_type": "code",
   "execution_count": 42,
   "id": "0f6b9622-1649-4527-9ba0-90d76043eb0e",
   "metadata": {},
   "outputs": [],
   "source": [
    "#so that, {E2}= complimentary of {E1}"
   ]
  },
  {
   "cell_type": "code",
   "execution_count": 43,
   "id": "2135ff00-67b1-4c7b-9d36-24e3b2ac666d",
   "metadata": {},
   "outputs": [],
   "source": [
    "#so, Pr{E1}=24/31 and Pr{E2}= 7/31"
   ]
  },
  {
   "cell_type": "code",
   "execution_count": 44,
   "id": "14af8a7b-eba2-4d5a-9d41-3e5ac24d9fa0",
   "metadata": {},
   "outputs": [
    {
     "data": {
      "text/plain": [
       "14"
      ]
     },
     "execution_count": 44,
     "metadata": {},
     "output_type": "execute_result"
    }
   ],
   "source": [
    "#Pr{A | E1}=[]\n",
    "Pr_A_E1=[]\n",
    "for i in range(len(E)):\n",
    "        if np.array(E)[i]>=0 and np.array(A[i])>0:\n",
    "                 Pr_A_E1.append(1)\n",
    "np.sum(   Pr_A_E1 ) \n",
    "Pr{A | E1} =14/24"
   ]
  },
  {
   "cell_type": "code",
   "execution_count": 46,
   "id": "fd71ce74-5227-4796-9a4b-67f979bd8d9f",
   "metadata": {},
   "outputs": [
    {
     "data": {
      "text/plain": [
       "1"
      ]
     },
     "execution_count": 46,
     "metadata": {},
     "output_type": "execute_result"
    }
   ],
   "source": [
    "#Pr{A | E2}=[]\n",
    "Pr_A_E1=[]\n",
    "for i in range(len(E)):\n",
    "        if np.array(E)[i]<0 and np.array(A[i])>0:\n",
    "                 Pr_A_E1.append(1)\n",
    "np.sum(Pr_A_E1) \n",
    "Pr{A | E2} =1/7"
   ]
  },
  {
   "cell_type": "code",
   "execution_count": 47,
   "id": "d49aebe5-aedb-4e47-ab2a-9e7ce95060ed",
   "metadata": {},
   "outputs": [
    {
     "data": {
      "text/plain": [
       "0.4838709677419355"
      ]
     },
     "execution_count": 47,
     "metadata": {},
     "output_type": "execute_result"
    }
   ],
   "source": [
    "#Pr{A}=sum of Pr{A|Ei} Pr{Ei}\n",
    "#Pr{A}=Pr{A | E1}*Pr{E1} +Pr{A | E2}*Pr{E2}\n",
    "\n",
    "Pr_A= (14/24)*(24/31)+(1/7)*(7/31) \n",
    "Pr_A"
   ]
  },
  {
   "cell_type": "code",
   "execution_count": 48,
   "id": "93a91b23-3019-4a20-a93f-be113c3a9d90",
   "metadata": {},
   "outputs": [],
   "source": [
    "Pr_A=15/31"
   ]
  },
  {
   "cell_type": "code",
   "execution_count": 49,
   "id": "8ab494ed-cd4e-4d92-9089-1b6db00017f3",
   "metadata": {},
   "outputs": [],
   "source": [
    "# prob of joint ocuurances  E>0 provided A>0\n",
    "#therefore, Pr{E1 |A} = Pr{A | E1 } Pr{E1 } /Pr{A}\n",
    "Pr_E1_A= (14/24)*(24/31)/(15/31) "
   ]
  },
  {
   "cell_type": "code",
   "execution_count": 50,
   "id": "845041d1-097a-45c1-92a5-20c53faa8e41",
   "metadata": {},
   "outputs": [
    {
     "data": {
      "text/plain": [
       "0.9333333333333333"
      ]
     },
     "execution_count": 50,
     "metadata": {},
     "output_type": "execute_result"
    }
   ],
   "source": [
    "Pr_E1_A\n",
    "#14/15"
   ]
  },
  {
   "cell_type": "code",
   "execution_count": 51,
   "id": "092f42f3-0133-4977-a791-6ca83a753c99",
   "metadata": {},
   "outputs": [],
   "source": [
    "# prob of joint ocuurances of  E<0 provided A>0\n",
    "Pr_E2_A= (1/7)*(7/31)/(15/31) #=1/15 "
   ]
  },
  {
   "cell_type": "code",
   "execution_count": null,
   "id": "f6bb8a72-bd18-4668-b443-2bc4e109a48c",
   "metadata": {},
   "outputs": [],
   "source": [
    "# example 2\n",
    "#calculation of false / tru posiive and negatives"
   ]
  },
  {
   "cell_type": "code",
   "execution_count": 53,
   "id": "70e12638-2308-49cc-9c7f-edb9ed2bdef4",
   "metadata": {},
   "outputs": [],
   "source": [
    "test=[1,1,1,1,-1,-1,-1,1,1,-1,1,-1,-1,1,-1,1,-1,1,1,-1,-1,-1,-1,-1,-1,1,1-1,-1,-1,-1,-1,1]"
   ]
  },
  {
   "cell_type": "code",
   "execution_count": 56,
   "id": "857edb09-e485-4a93-9f19-0cc42485c876",
   "metadata": {},
   "outputs": [],
   "source": [
    "fact=[1,1,-1,-1,1,-1,1,1,-1,1,1,-1,-1,1,1,1,1,1,1,-1,-1,-1,-1,-1,-1,1,11,-1,1,-1,-1,-1]"
   ]
  },
  {
   "cell_type": "code",
   "execution_count": 63,
   "id": "dfe226ff-49c9-4ce4-a44e-2121e6990b7d",
   "metadata": {},
   "outputs": [],
   "source": [
    "TP=[];TN=[];FP=[];FN=[]\n",
    "for i in range(len(test)):\n",
    "    if test[i]==1 and fact[i] ==1:\n",
    "        TP.append(1)\n",
    "   "
   ]
  },
  {
   "cell_type": "code",
   "execution_count": 64,
   "id": "c32e9c04-6f05-4fcd-981c-d48621df6034",
   "metadata": {},
   "outputs": [
    {
     "data": {
      "text/plain": [
       "0.0"
      ]
     },
     "execution_count": 64,
     "metadata": {},
     "output_type": "execute_result"
    }
   ],
   "source": [
    "np.sum(FP)"
   ]
  },
  {
   "cell_type": "code",
   "execution_count": null,
   "id": "87fba763-4911-47f6-9bca-a139c5a6679d",
   "metadata": {},
   "outputs": [],
   "source": [
    "#coding th ELISA example:\n",
    "#Example 3"
   ]
  },
  {
   "cell_type": "code",
   "execution_count": 77,
   "id": "710a6a8e-e394-4a18-9857-7faec269675e",
   "metadata": {},
   "outputs": [],
   "source": [
    "#E1= Elisa is positive\n",
    "#E2= Elisa is negative\n",
    "#A>0 has HIV\n",
    "#A<0 dosnt have HIV"
   ]
  },
  {
   "cell_type": "code",
   "execution_count": 78,
   "id": "8ef59522-180d-45c5-95a1-cf6e2d608b3c",
   "metadata": {},
   "outputs": [],
   "source": [
    "#(ELISA is positive ∣ Person tested has HIV) = 93% = 0.93.\n",
    "#P{E1 |A) = 0.93\n",
    "TP=0.93\n",
    "\n",
    "#(ELISA is negative ∣ Person tested has HIV) \n",
    "FN=1-TP #=0.07"
   ]
  },
  {
   "cell_type": "code",
   "execution_count": 79,
   "id": "d5adb86e-a265-4e6c-9f3a-d415badd6506",
   "metadata": {},
   "outputs": [],
   "source": [
    "#P(ELISA is negative ∣ Person tested has no  HIV)= \n",
    "TN=1-FP #0.99\n",
    "#P(ELISA is Positive ∣ Person tested has  no HIV)=  1% = 0.01.\n",
    "#P{E2 | A }=0.01\n",
    "FP=0.01"
   ]
  },
  {
   "cell_type": "code",
   "execution_count": 80,
   "id": "24b61eba-bfc5-4f8e-9cd5-4340ffef673c",
   "metadata": {},
   "outputs": [],
   "source": [
    "#equation 1.1 in the example\n",
    "#P(Person tested has HIV)\n",
    "#No of HIV infected/ total population = 1.48/1000\n",
    "#P{A/N}=.00148\n",
    "P_AbyN=0.00148"
   ]
  },
  {
   "cell_type": "code",
   "execution_count": 81,
   "id": "12dca73a-98a7-435b-9888-652a667549f6",
   "metadata": {},
   "outputs": [],
   "source": [
    "#Equation 1.2\n",
    "#Our goal is to compute the probability of HIV if ELISA is positive, that is  how good your test is\n",
    "#P{Person tested has HIV ∣ ELISA is positive}\n",
    "#P{A | E1}\n",
    "#or, \n",
    "#P(Person tested has HIV ∣ ELISA is positive) = P(Person tested has HIV & ELISA is positive)/P(ELISA is positive)\n",
    "\n"
   ]
  },
  {
   "cell_type": "code",
   "execution_count": 88,
   "id": "d7f5b1a5-12f2-4157-8cc2-c3499c7426c7",
   "metadata": {},
   "outputs": [
    {
     "data": {
      "text/plain": [
       "0.0013764"
      ]
     },
     "execution_count": 88,
     "metadata": {},
     "output_type": "execute_result"
    }
   ],
   "source": [
    "#Equation 1.3 \n",
    "#Numerator\n",
    "#P(Person tested has HIV & ELISA is positive)\n",
    "#Bayes' rule\n",
    "#P(Person tested has HIV & ELISA is positive)= P(Person tested has HIV)P(ELISA is positive ∣ Person tested has HIV)\n",
    "#P{E1 | A} =  P_AbyN * P{E1 |A)\n",
    "P_E1_and_A=P_AbyN * TP #0.00148 * 0.93 \n",
    "P_E1_and_A\n"
   ]
  },
  {
   "cell_type": "code",
   "execution_count": 86,
   "id": "1e8b2e04-1c9d-4243-a65f-1f3b08a09e10",
   "metadata": {},
   "outputs": [
    {
     "data": {
      "text/plain": [
       "0.0113616"
      ]
     },
     "execution_count": 86,
     "metadata": {},
     "output_type": "execute_result"
    }
   ],
   "source": [
    "#denominator\n",
    "#P(ELISA is positive) \n",
    "#=P{Person tested has HIV&ELISA is positive}+P{Person tested has no HIV& ELISA positive}\n",
    "#=P_E1_and_A+P{Person tested has no HIV& ELISA positive}\n",
    "#=P_E1_and_A+P_E1_and_Aneg\n",
    "\n",
    "\n",
    "#P{Person tested has no HIV& ELISA positive}\n",
    "#=P{Person tested has no  HIV}P{ELISA is positive ∣ Person tested has no HIV}\n",
    "#={1-P_AbyN}P{ELISA is positive ∣ Person tested has no HIV} =1-0.00148 P{ELISA is positive ∣ Person tested has no HIV}\n",
    "\n",
    "#P{ELISA is positive ∣ Person tested has no HIV}\n",
    "#which is the false positive  rate\n",
    "\n",
    "#Therefore:\n",
    "    \n",
    "#P{Person tested has no HIV& ELISA positive} =(1-0.00148)*FP\n",
    "P_E1_and_Aneg=(1-P_AbyN)*FP\n",
    "\n",
    "\n",
    "#P(ELISA is positive) or P{E1}\n",
    "P_E1=P_E1_and_A+P_E1_and_Aneg\n",
    "\n",
    "P_E1"
   ]
  },
  {
   "cell_type": "code",
   "execution_count": 89,
   "id": "0e18b51e-b62d-4453-93e1-f721c6bd5d1c",
   "metadata": {},
   "outputs": [],
   "source": [
    "#solution to Equation 1.2 or what we want:\n",
    "#P(Person tested has HIV ∣ ELISA is positive) = P(Person tested has HIV & ELISA is positive)/P(ELISA is positive)\n",
    "P_acc=P_E1_and_A/P_E1"
   ]
  },
  {
   "cell_type": "code",
   "execution_count": 90,
   "id": "aa721216-7637-4410-b42f-66879f65a1c7",
   "metadata": {},
   "outputs": [
    {
     "data": {
      "text/plain": [
       "0.12114490916772287"
      ]
     },
     "execution_count": 90,
     "metadata": {},
     "output_type": "execute_result"
    }
   ],
   "source": [
    "P_acc"
   ]
  },
  {
   "cell_type": "code",
   "execution_count": 91,
   "id": "963cdf87-3e16-4e17-ad14-d10f450abefd",
   "metadata": {},
   "outputs": [
    {
     "data": {
      "text/plain": [
       "12.114490916772287"
      ]
     },
     "execution_count": 91,
     "metadata": {},
     "output_type": "execute_result"
    }
   ],
   "source": [
    "P_acc*100"
   ]
  },
  {
   "cell_type": "code",
   "execution_count": null,
   "id": "cd1319e9-a1bd-4a80-a89f-e9994b3b98db",
   "metadata": {},
   "outputs": [],
   "source": [
    "#lets look at the case when a person is tested positive second time "
   ]
  },
  {
   "cell_type": "code",
   "execution_count": 145,
   "id": "fbbcf667-3f26-413d-80f4-3f4e7662aee9",
   "metadata": {},
   "outputs": [],
   "source": [
    "# imagine a new test kit arrrived in the market to test covid (using the data from example 2)\n",
    "test=[1,1,1,1,-1,-1,-1,1,1,-1,1,-1,-1,1,-1,1,-1,1,1,-1,-1,-1,-1,-1,-1,1,1-1,-1,-1,-1,-1,1,1,1,1,1,1,1,1,1,1,1,1,1,1,1,1]\n",
    "fact=[1,1,-1,-1,1,-1,1,1,-1,1,1,-1,-1,1,1,1,1,1,1,-1,-1,-1,-1,-1,-1,1,11,-1,1,-1,-1,-1,1,1,1,1,1,1,1,1,1,1,1,1,1,1,1]"
   ]
  },
  {
   "cell_type": "code",
   "execution_count": 146,
   "id": "4f9b8d33-2895-46bc-b17e-9e71fae9c8c8",
   "metadata": {},
   "outputs": [],
   "source": [
    "TP=[];TN=[];FP=[];FN=[]\n",
    "for i in range(len(test)):\n",
    "    if test[i]==1 and fact[i] ==1:\n",
    "        TP.append(1)\n",
    "    if test[i]==-1 and fact[i] ==-1:\n",
    "        TN.append(1)      \n",
    "    if test[i]==1 and fact[i] ==-1:\n",
    "        FP.append(1)  \n",
    "    if test[i]==-1 and fact[i] ==1:\n",
    "        FN.append(1)        "
   ]
  },
  {
   "cell_type": "code",
   "execution_count": 147,
   "id": "f3ed3a50-cfb1-4aad-b980-06e914456eef",
   "metadata": {},
   "outputs": [],
   "source": []
  },
  {
   "cell_type": "code",
   "execution_count": 151,
   "id": "c29299b2-fc67-4729-8217-0beb88dd97f9",
   "metadata": {},
   "outputs": [
    {
     "data": {
      "text/plain": [
       "0.25"
      ]
     },
     "execution_count": 151,
     "metadata": {},
     "output_type": "execute_result"
    }
   ],
   "source": [
    "TPR = TP / (TP + FN)\n",
    "FPR = FP / (FP + TN)\n",
    "FPR\n"
   ]
  },
  {
   "cell_type": "code",
   "execution_count": 152,
   "id": "0f8db78a-d796-4547-89bd-2902c357e32d",
   "metadata": {},
   "outputs": [],
   "source": [
    "FNR=1-TPR\n",
    "TNR=1-FPR"
   ]
  },
  {
   "cell_type": "code",
   "execution_count": 153,
   "id": "8cc2d91c-83a5-4943-8b72-db2b19729ffb",
   "metadata": {},
   "outputs": [
    {
     "data": {
      "text/plain": [
       "0.002"
      ]
     },
     "execution_count": 153,
     "metadata": {},
     "output_type": "execute_result"
    }
   ],
   "source": [
    "#P(Person tested has COVID)\n",
    "#No of COVID infected/ total population = 2/1000\n",
    "#P{A/N}=.00148\n",
    "P_AbyN=2/1000\n",
    "P_AbyN\n",
    "#P(Person tested has COVID ∣ TEST1 is positive) = P(Person tested has COVID & TEST1 is positive)/P(TEST1 is positive)\n",
    "#NUM\n",
    "P_E1_and_A=P_AbyN * TPR #0.00148 * 0.93 \n",
    "P_E1_and_A\n",
    "\n",
    "#DENOM\n",
    "#P_E1=P_E1_and_A+P_E1_and_Aneg\n",
    "P_E1_and_Aneg=(1-P_AbyN)*FPR\n",
    "P_E1=P_E1_and_A+P_E1_and_Aneg\n",
    "P_E1\n",
    "P_acc=P_E1_and_A/P_E1\n",
    "P_acc*100"
   ]
  },
  {
   "cell_type": "code",
   "execution_count": null,
   "id": "a8ae528e-f40d-4feb-a0c5-9125f1e58c9a",
   "metadata": {},
   "outputs": [],
   "source": []
  },
  {
   "cell_type": "code",
   "execution_count": null,
   "id": "d28d85e7-ce3c-476d-a6d0-18b5866b373e",
   "metadata": {},
   "outputs": [],
   "source": []
  }
 ],
 "metadata": {
  "kernelspec": {
   "display_name": "Python 3 (ipykernel)",
   "language": "python",
   "name": "python3"
  },
  "language_info": {
   "codemirror_mode": {
    "name": "ipython",
    "version": 3
   },
   "file_extension": ".py",
   "mimetype": "text/x-python",
   "name": "python",
   "nbconvert_exporter": "python",
   "pygments_lexer": "ipython3",
   "version": "3.10.12"
  }
 },
 "nbformat": 4,
 "nbformat_minor": 5
}
